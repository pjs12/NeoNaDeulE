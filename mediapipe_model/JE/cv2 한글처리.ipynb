{
 "cells": [
  {
   "cell_type": "code",
   "execution_count": null,
   "id": "ff77cb85",
   "metadata": {},
   "outputs": [],
   "source": [
    "from PIL import ImageFont, ImageDraw, Image\n",
    "\n",
    "font = ImageFont.truetype(\"fonts/gulim.ttc\", 20)\n",
    "img = Image.fromarray(img) # img배열을 PIL이 처리가능하게 변환\n",
    "draw = ImageDraw.Draw(img)\n",
    "draw.text((30,50), text, font=font, fill=(0,0,255))\n",
    "img = np.array(img) # 다시 OpenCV가 처리가능하게 np 배열로 변환\n",
    "\n",
    "data = np.append(data, angle_arr , axis=0)"
   ]
  }
 ],
 "metadata": {
  "kernelspec": {
   "display_name": "Python 3",
   "language": "python",
   "name": "python3"
  },
  "language_info": {
   "codemirror_mode": {
    "name": "ipython",
    "version": 3
   },
   "file_extension": ".py",
   "mimetype": "text/x-python",
   "name": "python",
   "nbconvert_exporter": "python",
   "pygments_lexer": "ipython3",
   "version": "3.8.8"
  }
 },
 "nbformat": 4,
 "nbformat_minor": 5
}
