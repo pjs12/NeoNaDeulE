{
 "cells": [
  {
   "cell_type": "code",
   "execution_count": 21,
   "id": "d56c18b1",
   "metadata": {},
   "outputs": [],
   "source": [
    "import numpy as np\n",
    "import json\n",
    "from konlpy.tag import Okt\n",
    "from tensorflow import keras\n",
    "from pyjosa.josa import Josa"
   ]
  },
  {
   "cell_type": "markdown",
   "id": "91dd478c",
   "metadata": {},
   "source": [
    "### 문장(학습) 데이터 가져오기"
   ]
  },
  {
   "cell_type": "code",
   "execution_count": 22,
   "id": "26d08415",
   "metadata": {},
   "outputs": [
    {
     "name": "stdout",
     "output_type": "stream",
     "text": [
      "코퍼스의 길이:  881\n"
     ]
    }
   ],
   "source": [
    "f = open(\"file/sentence.txt\", \"r\", encoding=\"utf-8\")\n",
    "t = f.read().split('\\n')\n",
    "text = ''\n",
    "for i in t :\n",
    "    text = text + i\n",
    "print('코퍼스의 길이: ', len(text))"
   ]
  },
  {
   "cell_type": "markdown",
   "id": "5db8d254",
   "metadata": {},
   "source": [
    "### 데이터 정제 및 파일 저장"
   ]
  },
  {
   "cell_type": "code",
   "execution_count": 23,
   "id": "24fa2532",
   "metadata": {},
   "outputs": [],
   "source": [
    "# 함수 1 : 딕셔너리에 데이터 정제\n",
    "def make_dic(words):\n",
    "\n",
    "    tmp = [\"@\"]\n",
    "    dic = {}\n",
    "    for word in words:\n",
    "        tmp.append(word)\n",
    "        if len(tmp) < 1: continue \n",
    "        if len(tmp) > 2: tmp = tmp[1:]\n",
    "\n",
    "        set_word(dic, tmp)\n",
    "\n",
    "        if word == \".\":\n",
    "            tmp = [\"@\"]\n",
    "            continue\n",
    "            \n",
    "    return dic\n",
    "\n",
    "# 함수 2 : 딕셔너리에 데이터 정제\n",
    "def set_word(dic, s2):\n",
    "    w1, w2 = s2 \n",
    "    \n",
    "    if not w1 in dic:\n",
    "        dic[w1] = {}\n",
    "        \n",
    "    # print(dic)    \n",
    "    if not w2 in dic[w1]:\n",
    "        dic[w1][w2] = 1"
   ]
  },
  {
   "cell_type": "code",
   "execution_count": 24,
   "id": "731574b7",
   "metadata": {},
   "outputs": [],
   "source": [
    "# 딕셔너리에 데이터 정제\n",
    "text = text.replace(\"…\", \"\") \n",
    "\n",
    "# 형태소 분석\n",
    "Okt=Okt() \n",
    "malist = Okt.pos(text, norm=True) \n",
    "words = []\n",
    "\n",
    "for word in malist:\n",
    "    if not word[1] in [\"Punctuation\"]:\n",
    "        words.append(word[0])\n",
    "    if word[0] == \".\":\n",
    "        words.append(word[0])\n",
    "            # print(words)\n",
    "dic = make_dic(words)\n",
    "        \n",
    "# 파일 저장\n",
    "# dict_file = \"file/sentence.json\"\n",
    "# word_list = \"file/wordlist.json\"\n",
    "# json.dump(words, open(word_list,\"w\", encoding=\"utf-8\"))\n",
    "# json.dump(dic, open(dict_file,\"w\", encoding=\"utf-8\"))"
   ]
  },
  {
   "cell_type": "code",
   "execution_count": 25,
   "id": "846670d9",
   "metadata": {},
   "outputs": [
    {
     "name": "stdout",
     "output_type": "stream",
     "text": [
      "{'@': {'오늘': 1, '나': 1, '하늘': 1, '만나서': 1, '역': 1, '이': 1, '안녕하세요': 1, '제': 1, '저': 1, '너무': 1, '힘들다': 1, '어렵다': 1, '언제': 1, '시장': 1}, '오늘': {'은': 1}, '은': {'날씨': 1, '얼마': 1, '홍길동': 1}, '날씨': {'가': 1}, '가': {'좋네요': 1, '고파요': 1, '아파요': 1, '맑다': 1}, '좋네요': {'.': 1}, '나': {'는': 1}, '는': {'배': 1, '추워요': 1, '아파요': 1, '머리': 1, '0': 1, '인천': 1, '모델링': 1}, '배': {'가': 1}, '고파요': {'.': 1}, '추워요': {'.': 1}, '하늘': {'이': 1}, '이': {'파랗다': 1, '물건': 1, '제대로': 1}, '파랗다': {'.': 1}, '만나서': {'반가워요': 1}, '반가워요': {'.': 1}, '역': {'으로': 1}, '으로': {'가는': 1}, '가는': {'길이': 1}, '길이': {'어딘가': 1}, '어딘가': {'요': 1}, '요': {'.': 1}, '물건': {'은': 1}, '얼마': {'인가요': 1}, '인가요': {'.': 1}, '아파요': {'.': 1}, '머리': {'가': 1}, '안녕하세요': {'.': 1}, '제': {'이름': 1}, '이름': {'은': 1}, '홍길동': {'입니다': 1}, '입니다': {'.': 1}, '저': {'의': 1, '는': 1}, '의': {'나이': 1}, '나이': {'는': 1}, '0': {'살': 1}, '살': {'입니다': 1, '고': 1}, '인천': {'에': 1}, '에': {'살': 1, '가다': 1}, '고': {'있습니다': 1}, '있습니다': {'.': 1}, '모델링': {'을': 1}, '을': {'하고': 1}, '하고': {'있습니다': 1}, '너무': {'안됩니다': 1}, '안됩니다': {'.': 1}, '힘들다': {'.': 1}, '어렵다': {'.': 1}, '언제': {'값': 1}, '값': {'이': 1}, '제대로': {'나올지': 1}, '나올지': {'잘': 1}, '잘': {'모르겠습니다': 1}, '모르겠습니다': {'.': 1}, '시장': {'에': 1}, '가다': {'.': 1}, '맑다': {'.': 1}}\n"
     ]
    }
   ],
   "source": [
    "print(dic)"
   ]
  },
  {
   "cell_type": "markdown",
   "id": "ed1738bd",
   "metadata": {},
   "source": [
    "### 데이터 전처리"
   ]
  },
  {
   "cell_type": "code",
   "execution_count": 38,
   "id": "db8c5425",
   "metadata": {},
   "outputs": [
    {
     "name": "stdout",
     "output_type": "stream",
     "text": [
      "사용 문자의 수: 57\n",
      "{'0': 0, '@': 1, '가': 2, '가는': 3, '가다': 4, '값': 5, '고': 6, '고파요': 7, '길이': 8, '나': 9, '나올지': 10, '나이': 11, '날씨': 12, '너무': 13, '는': 14, '만나서': 15, '맑다': 16, '머리': 17, '모델링': 18, '모르겠습니다': 19, '물건': 20, '반가워요': 21, '배': 22, '살': 23, '시장': 24, '아파요': 25, '안녕하세요': 26, '안됩니다': 27, '어딘가': 28, '어렵다': 29, '언제': 30, '얼마': 31, '에': 32, '역': 33, '오늘': 34, '요': 35, '으로': 36, '은': 37, '을': 38, '의': 39, '이': 40, '이름': 41, '인가요': 42, '인천': 43, '입니다': 44, '있습니다': 45, '잘': 46, '저': 47, '제': 48, '제대로': 49, '좋네요': 50, '추워요': 51, '파랗다': 52, '하고': 53, '하늘': 54, '홍길동': 55, '힘들다': 56}\n"
     ]
    }
   ],
   "source": [
    "# 텍스트를 maxlen개의 문자로 자르고 다음에 오는 문자 등록\n",
    "chars = sorted(list(set(dic.keys()))) # 정렬\n",
    "print('사용 문자의 수:', len(chars))\n",
    "\n",
    "char_indices = dict((c, i) for i, c in enumerate(chars)) # 문자 → ID\n",
    "indices_char = dict((i, c) for i, c in enumerate(chars)) # ID → 문자\n",
    "    \n",
    "print(char_indices)\n",
    "# print(indices_char)"
   ]
  },
  {
   "cell_type": "code",
   "execution_count": 39,
   "id": "54e736a2",
   "metadata": {},
   "outputs": [
    {
     "name": "stdout",
     "output_type": "stream",
     "text": [
      "학습 구문 수: 425\n",
      "['오늘', '은', '날씨', '가', '좋네요', '.', '나', '는', '배', '가', '고파요', '.', '나', '는', '추워요', '.', '하늘', '이', '파랗다', '.', '만나서', '반가워요', '.', '역', '으로', '가는', '길이', '어딘가', '요', '.', '이', '물건', '은', '얼마', '인가요', '.', '나', '는', '아파요', '.', '나', '는', '배', '가', '아파요', '.', '나', '는', '머리', '가', '아파요', '.', '안녕하세요', '.', '제', '이름', '은', '홍길동', '입니다', '.', '저', '의', '나이', '는', '0', '살', '입니다', '.', '저', '는', '인천', '에', '살', '고', '있습니다', '.', '나', '는', '모델링', '을', '하고', '있습니다', '.', '너무', '안됩니다', '.', '힘들다', '.', '어렵다', '.', '언제', '값', '이', '제대로', '나올지', '잘', '모르겠습니다', '.', '시장', '에', '가다', '.', '오늘', '은', '날씨', '가', '좋네요', '.', '나', '는', '배', '가', '고파요', '.', '나', '는', '추워요', '.', '하늘', '이', '파랗다', '.', '만나서', '반가워요', '.', '역', '으로', '가는', '길이', '어딘가', '요', '.', '이', '물건', '은', '얼마', '인가요', '.', '나', '는', '아파요', '.', '나', '는', '배', '가', '아파요', '.', '나', '는', '머리', '가', '아파요', '.', '안녕하세요', '.', '제', '이름', '은', '홍길동', '입니다', '.', '저', '의', '나이', '는', '0', '살', '입니다', '.', '저', '는', '인천', '에', '살', '고', '있습니다', '.', '나', '는', '모델링', '을', '하고', '있습니다', '.', '너무', '안됩니다', '.', '힘들다', '.', '어렵다', '.', '언제', '값', '이', '제대로', '나올지', '잘', '모르겠습니다', '.', '시장', '에', '가다', '.', '오늘', '은', '날씨', '가', '좋네요', '.', '나', '는', '배', '가', '고파요', '.', '나', '는', '추워요', '.', '하늘', '이', '파랗다', '.', '만나서', '반가워요', '.', '역', '으로', '가는', '길이', '어딘가', '요', '.', '이', '물건', '은', '얼마', '인가요', '.', '나', '는', '아파요', '.', '나', '는', '배', '가', '아파요', '.', '나', '는', '머리', '가', '아파요', '.', '안녕하세요', '.', '제', '이름', '은', '홍길동', '입니다', '.', '저', '의', '나이', '는', '0', '살', '입니다', '.', '저', '는', '인천', '에', '살', '고', '있습니다', '.', '나', '는', '모델링', '을', '하고', '있습니다', '.', '너무', '안됩니다', '.', '힘들다', '.', '어렵다', '.', '언제', '값', '이', '제대로', '나올지', '잘', '모르겠습니다', '.', '시장', '에', '가다', '.', '오늘', '은', '날씨', '가', '좋네요', '.', '나', '는', '배', '가', '고파요', '.', '나', '는', '추워요', '.', '하늘', '이', '파랗다', '.', '만나서', '반가워요', '.', '역', '으로', '가는', '길이', '어딘가', '요', '.', '이', '물건', '은', '얼마', '인가요', '.', '나', '는', '아파요', '.', '나', '는', '배', '가', '아파요', '.', '나', '는', '머리', '가', '아파요', '.', '안녕하세요', '.', '제', '이름', '은', '홍길동', '입니다', '.', '저', '의', '나이', '는', '0', '살', '입니다', '.', '저', '는', '인천', '에', '살', '고', '있습니다', '.', '나', '는', '모델링', '을', '하고', '있습니다', '.', '너무', '안됩니다', '.', '힘들다', '.', '어렵다', '.', '언제', '값', '이', '제대로', '나올지', '잘', '모르겠습니다', '.', '시장', '에', '가다', '.', '오늘', '은', '날씨', '가', '맑다', '.', '오늘', '은', '날씨', '가', '맑다', '.', '오늘', '은', '날씨', '가', '맑다']\n"
     ]
    }
   ],
   "source": [
    "sentences = []\n",
    "next_chars = []\n",
    "maxlen = 5\n",
    "\n",
    "for i in range(len(words)-1):\n",
    "    sentences.append(words[i])\n",
    "    next_chars.append(words[i + 1])\n",
    "\n",
    "print('학습 구문 수:', len(sentences))\n",
    "\n",
    "print(sentences)\n",
    "# print(next_chars)"
   ]
  },
  {
   "cell_type": "markdown",
   "id": "2d2ff6a4",
   "metadata": {},
   "source": [
    "### 모델 만들기"
   ]
  },
  {
   "cell_type": "markdown",
   "id": "de7faf8c",
   "metadata": {},
   "source": [
    "* train test 데이터 분할"
   ]
  },
  {
   "cell_type": "code",
   "execution_count": 28,
   "id": "776dba6b",
   "metadata": {},
   "outputs": [],
   "source": [
    "X = np.zeros((len(sentences), maxlen, len(chars)), dtype=np.bool_)\n",
    "y = np.zeros((len(sentences), len(chars)), dtype=np.bool_)\n",
    "\n",
    "for i in range(len(sentences)) :\n",
    "    if sentences[i] == '.' or next_chars[i] == '.':\n",
    "        continue\n",
    "    #print(i, sentences[i], next_chars[i])    \n",
    "    \n",
    "    X[ i, len(sentences[i]), char_indices[sentences[i]] ] = 1 \n",
    "    y[ i, char_indices[next_chars[i]] ] = 1"
   ]
  },
  {
   "cell_type": "code",
   "execution_count": 29,
   "id": "103baca0",
   "metadata": {},
   "outputs": [],
   "source": [
    "from sklearn.model_selection import train_test_split\n",
    "\n",
    "x_train, x_test, y_train, y_test = train_test_split(X,y,test_size=0.3, random_state=42)"
   ]
  },
  {
   "cell_type": "code",
   "execution_count": 30,
   "id": "ac5f1958",
   "metadata": {},
   "outputs": [],
   "source": [
    "from tensorflow import keras\n",
    "from bs4 import BeautifulSoup\n",
    "from keras.models import Sequential\n",
    "from keras.layers import Dense, Activation, Dropout\n",
    "from keras.layers import LSTM\n",
    "from tensorflow.keras import optimizers\n",
    "\n",
    "from sklearn.metrics import mean_squared_error\n",
    "from sklearn.metrics import mean_absolute_error\n",
    "from sklearn.metrics import r2_score"
   ]
  },
  {
   "cell_type": "code",
   "execution_count": 31,
   "id": "aa676989",
   "metadata": {},
   "outputs": [
    {
     "name": "stdout",
     "output_type": "stream",
     "text": [
      "Model: \"sequential\"\n",
      "_________________________________________________________________\n",
      " Layer (type)                Output Shape              Param #   \n",
      "=================================================================\n",
      " lstm (LSTM)                 (None, 128)               95232     \n",
      "                                                                 \n",
      " dense (Dense)               (None, 57)                7353      \n",
      "                                                                 \n",
      " activation (Activation)     (None, 57)                0         \n",
      "                                                                 \n",
      "=================================================================\n",
      "Total params: 102,585\n",
      "Trainable params: 102,585\n",
      "Non-trainable params: 0\n",
      "_________________________________________________________________\n"
     ]
    }
   ],
   "source": [
    "# 모델 구축하기(LSTM)\n",
    "keras.backend.clear_session()\n",
    "model1 = Sequential()\n",
    "model1.add(LSTM(128, input_shape=(maxlen, len(chars))))\n",
    "model1.add(Dense(len(chars)))\n",
    "model1.add(Activation('softmax'))\n",
    "optimizer = optimizers.RMSprop(learning_rate=0.01)\n",
    "model1.compile(loss='categorical_crossentropy', optimizer=optimizer)\n",
    "model1.summary()"
   ]
  },
  {
   "cell_type": "code",
   "execution_count": 32,
   "id": "0a3ca31e",
   "metadata": {},
   "outputs": [
    {
     "name": "stdout",
     "output_type": "stream",
     "text": [
      "MSE:  0.004962743\n",
      "RMSE:  0.07044673728644277\n",
      "MAE:  0.0147083495\n",
      "R2:  0.31636559707158785\n"
     ]
    }
   ],
   "source": [
    "model1.fit(x_train, y_train, batch_size=128, epochs=1000, verbose=0) \n",
    "y_pred = model1.predict(x_test, verbose=0)\n",
    "\n",
    "print('MSE: ', mean_squared_error(y_test, y_pred))\n",
    "print('RMSE: ', mean_squared_error(y_test, y_pred)**(1/2))\n",
    "print('MAE: ',mean_absolute_error(y_test, y_pred)) \n",
    "print('R2: ', r2_score(y_test, y_pred)) "
   ]
  },
  {
   "cell_type": "code",
   "execution_count": 33,
   "id": "f06444aa",
   "metadata": {},
   "outputs": [],
   "source": [
    "# model1.save(\"file/WTS_model.h5\")"
   ]
  },
  {
   "cell_type": "markdown",
   "id": "8f0ef08d",
   "metadata": {},
   "source": [
    "### 모델 테스트"
   ]
  },
  {
   "cell_type": "code",
   "execution_count": 34,
   "id": "b507e11b",
   "metadata": {},
   "outputs": [],
   "source": [
    "# 예측 값 -> 문자 변환 함수\n",
    "def sample(preds, temperature=1.0):\n",
    "    preds = np.asarray(preds).astype('float64')\n",
    "    preds = np.log(preds) / temperature\n",
    "    exp_preds = np.exp(preds)\n",
    "    preds = exp_preds / np.sum(exp_preds)\n",
    "    probas = np.random.multinomial(1, preds, 1)\n",
    "    return np.argmax(probas)"
   ]
  },
  {
   "cell_type": "code",
   "execution_count": 35,
   "id": "f35d5c57",
   "metadata": {},
   "outputs": [],
   "source": [
    "# 조사 함수\n",
    "def josa_fuc(c, nextc): \n",
    "    try:\n",
    "        return c + Josa.get_josa(c, nextc)\n",
    "    except :\n",
    "        return c + nextc    "
   ]
  },
  {
   "cell_type": "code",
   "execution_count": 41,
   "id": "4e9ccf5c",
   "metadata": {},
   "outputs": [],
   "source": [
    "def predict_mo(lst):\n",
    "    result =''\n",
    "    \n",
    "    for i in lst:\n",
    "        \n",
    "        if i[-1] == '요' or i[-1] == '다':\n",
    "            result += i\n",
    "            continue\n",
    "            \n",
    "        x = np.zeros((1, 5, len(chars)))\n",
    "        x[0, len(i), char_indices[i]] = 1.\n",
    "\n",
    "        preds = model1.predict(x, verbose=0)[0]\n",
    "        next_index = sample(preds)\n",
    "        next_char = indices_char[next_index]\n",
    "        \n",
    "        y = josa_fuc(i, next_char)\n",
    "        result += y + ' '\n",
    "        \n",
    "    return result"
   ]
  },
  {
   "cell_type": "code",
   "execution_count": 42,
   "id": "8095941b",
   "metadata": {},
   "outputs": [
    {
     "name": "stdout",
     "output_type": "stream",
     "text": [
      "오늘은 날씨가 맑다\n"
     ]
    }
   ],
   "source": [
    "lst = ['오늘','날씨','맑다']\n",
    "\n",
    "print(predict_mo(lst))"
   ]
  },
  {
   "cell_type": "code",
   "execution_count": null,
   "id": "8c63109e",
   "metadata": {},
   "outputs": [],
   "source": []
  },
  {
   "cell_type": "code",
   "execution_count": null,
   "id": "a2ca964a",
   "metadata": {},
   "outputs": [],
   "source": []
  }
 ],
 "metadata": {
  "kernelspec": {
   "display_name": "Python 3",
   "language": "python",
   "name": "python3"
  },
  "language_info": {
   "codemirror_mode": {
    "name": "ipython",
    "version": 3
   },
   "file_extension": ".py",
   "mimetype": "text/x-python",
   "name": "python",
   "nbconvert_exporter": "python",
   "pygments_lexer": "ipython3",
   "version": "3.8.8"
  }
 },
 "nbformat": 4,
 "nbformat_minor": 5
}
