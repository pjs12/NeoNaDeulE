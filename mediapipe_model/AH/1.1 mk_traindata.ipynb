{
 "cells": [
  {
   "cell_type": "markdown",
   "id": "6ed64368",
   "metadata": {},
   "source": [
    "### 학습데이터 만들기"
   ]
  },
  {
   "cell_type": "code",
   "execution_count": 1,
   "id": "6e08c70f",
   "metadata": {},
   "outputs": [],
   "source": [
    "# !pip install mediapipe"
   ]
  },
  {
   "cell_type": "code",
   "execution_count": 1,
   "id": "341e9634",
   "metadata": {},
   "outputs": [
    {
     "data": {
      "text/plain": [
       "True"
      ]
     },
     "execution_count": 1,
     "metadata": {},
     "output_type": "execute_result"
    }
   ],
   "source": [
    "import cv2\n",
    "import mediapipe as mp\n",
    "import numpy as np\n",
    "\n",
    "max_num_hands = 2 # 두개\n",
    "\n",
    "# MediaPipe hands model\n",
    "mp_hands = mp.solutions.hands\n",
    "mp_drawing = mp.solutions.drawing_utils\n",
    "hands = mp_hands.Hands(\n",
    "    max_num_hands=max_num_hands,\n",
    "    min_detection_confidence=0.5,\n",
    "    min_tracking_confidence=0.5)\n",
    "\n",
    "# Gesture recognition model\n",
    "file = np.genfromtxt('gesture_train.csv', delimiter=',')\n",
    "angle = file[:,:-1].astype(np.float32)\n",
    "label = file[:, -1].astype(np.float32)\n",
    "knn = cv2.ml.KNearest_create()\n",
    "knn.train(angle, cv2.ml.ROW_SAMPLE, label)\n"
   ]
  },
  {
   "cell_type": "code",
   "execution_count": 2,
   "id": "be2c4409",
   "metadata": {},
   "outputs": [
    {
     "data": {
      "text/plain": [
       "(1, 15)"
      ]
     },
     "execution_count": 2,
     "metadata": {},
     "output_type": "execute_result"
    }
   ],
   "source": [
    "angle_data = np.empty((1,15), int)\n",
    "angle_data.shape"
   ]
  },
  {
   "cell_type": "code",
   "execution_count": 3,
   "id": "a6e06ea4",
   "metadata": {},
   "outputs": [],
   "source": [
    "import pandas as pd\n",
    "\n",
    "def make_data(word) :\n",
    "    angle_data = np.empty((1,15), int)\n",
    "    \n",
    "    cap = cv2.VideoCapture(0)\n",
    "\n",
    "    while cap.isOpened():\n",
    "        ret, img = cap.read()\n",
    "        if not ret:\n",
    "            continue\n",
    "\n",
    "        img = cv2.flip(img, 1)\n",
    "        img = cv2.cvtColor(img, cv2.COLOR_BGR2RGB)\n",
    "\n",
    "        result = hands.process(img)\n",
    "\n",
    "        img = cv2.cvtColor(img, cv2.COLOR_RGB2BGR)\n",
    "\n",
    "        if result.multi_hand_landmarks is not None:\n",
    "            rps_result = []\n",
    "\n",
    "            for res in result.multi_hand_landmarks:\n",
    "                joint = np.zeros((21, 3))\n",
    "                for j, lm in enumerate(res.landmark):\n",
    "                    joint[j] = [lm.x, lm.y, lm.z]\n",
    "\n",
    "                # Compute angles between joints\n",
    "                v1 = joint[[0,1,2,3,0,5,6,7,0,9,10,11,0,13,14,15,0,17,18,19],:] # Parent joint\n",
    "                v2 = joint[[1,2,3,4,5,6,7,8,9,10,11,12,13,14,15,16,17,18,19,20],:] # Child joint\n",
    "                v = v2 - v1 # [20,3]\n",
    "                \n",
    "                # Normalize v 정규화\n",
    "                v = v / np.linalg.norm(v, axis=1)[:, np.newaxis]\n",
    "\n",
    "                # Get angle using arcos of dot product 아크코사인으로 15개의 각도를 저장\n",
    "                angle = np.arccos(np.einsum('nt,nt->n',\n",
    "                    v[[0,1,2,4,5,6,8,9,10,12,13,14,16,17,18],:], \n",
    "                    v[[1,2,3,5,6,7,9,10,11,13,14,15,17,18,19],:])) # [15,]\n",
    "\n",
    "                angle = np.degrees(angle) # Convert radian to degree\n",
    "\n",
    "                # Inference gesture\n",
    "                data = np.array([angle], dtype=np.float32)\n",
    "\n",
    "                angle_data = np.append(angle_data, data, axis=0)\n",
    "\n",
    "                mp_drawing.draw_landmarks(img, res, mp_hands.HAND_CONNECTIONS)\n",
    "\n",
    "        cv2.imshow('make_train_data', img)\n",
    "        if cv2.waitKey(1) == ord('q'):\n",
    "            cv2.destroyAllWindows()\n",
    "            cap.release()\n",
    "            df = pd.DataFrame(angle_data)\n",
    "            df['word'] = word\n",
    "            #df.columns = ['00','1','2','3','4','5','6','7','8','9','10','11','12','13','14','wor']\n",
    "            return df;"
   ]
  },
  {
   "cell_type": "code",
   "execution_count": 4,
   "id": "310a7ee7",
   "metadata": {},
   "outputs": [
    {
     "data": {
      "text/plain": [
       "(203, 16)"
      ]
     },
     "execution_count": 4,
     "metadata": {},
     "output_type": "execute_result"
    }
   ],
   "source": [
    "df1 = make_data('100') # 오른손\n",
    "df1.shape"
   ]
  },
  {
   "cell_type": "code",
   "execution_count": 8,
   "id": "7cba5fd4",
   "metadata": {},
   "outputs": [
    {
     "data": {
      "text/plain": [
       "(504, 16)"
      ]
     },
     "execution_count": 8,
     "metadata": {},
     "output_type": "execute_result"
    }
   ],
   "source": [
    "df2 = make_data('101') # 왼손\n",
    "df2.shape"
   ]
  },
  {
   "cell_type": "code",
   "execution_count": 9,
   "id": "394d3899",
   "metadata": {},
   "outputs": [],
   "source": [
    "df = pd.merge(df1, df2, how='outer')\n",
    "#df"
   ]
  },
  {
   "cell_type": "code",
   "execution_count": 10,
   "id": "3f88acaa",
   "metadata": {},
   "outputs": [],
   "source": [
    "# 파일 저장\n",
    "df.to_csv('word_add.csv', index = False)"
   ]
  },
  {
   "cell_type": "code",
   "execution_count": null,
   "id": "6dae59e7",
   "metadata": {},
   "outputs": [],
   "source": []
  },
  {
   "cell_type": "markdown",
   "id": "ef61957d",
   "metadata": {},
   "source": [
    "### 기존 데이터셋과 합치기"
   ]
  },
  {
   "cell_type": "code",
   "execution_count": null,
   "id": "de21f7ad",
   "metadata": {},
   "outputs": [],
   "source": [
    "import pandas as pd\n",
    "\n",
    "ori_data = pd.read_csv('word.csv')\n",
    "# ori_data.info()"
   ]
  },
  {
   "cell_type": "code",
   "execution_count": null,
   "id": "5aca7fe7",
   "metadata": {},
   "outputs": [],
   "source": [
    "data = pd.read_csv('word_add.csv')\n",
    "data.info()"
   ]
  },
  {
   "cell_type": "code",
   "execution_count": null,
   "id": "45d57091",
   "metadata": {},
   "outputs": [],
   "source": [
    "df = pd.merge(ori_data, data, how='outer')\n",
    "df.info()"
   ]
  },
  {
   "cell_type": "code",
   "execution_count": null,
   "id": "a9095ad9",
   "metadata": {},
   "outputs": [],
   "source": [
    "df.to_csv('word.csv', index = False)"
   ]
  }
 ],
 "metadata": {
  "kernelspec": {
   "display_name": "Python 3",
   "language": "python",
   "name": "python3"
  },
  "language_info": {
   "codemirror_mode": {
    "name": "ipython",
    "version": 3
   },
   "file_extension": ".py",
   "mimetype": "text/x-python",
   "name": "python",
   "nbconvert_exporter": "python",
   "pygments_lexer": "ipython3",
   "version": "3.8.8"
  }
 },
 "nbformat": 4,
 "nbformat_minor": 5
}
