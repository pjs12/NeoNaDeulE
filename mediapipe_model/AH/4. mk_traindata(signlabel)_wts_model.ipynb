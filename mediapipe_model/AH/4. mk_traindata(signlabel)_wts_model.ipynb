{
 "cells": [
  {
   "cell_type": "code",
   "execution_count": 1,
   "id": "ca04a0af",
   "metadata": {},
   "outputs": [],
   "source": [
    "import numpy as np\n",
    "import json\n",
    "from konlpy.tag import Okt\n",
    "from tensorflow import keras"
   ]
  },
  {
   "cell_type": "markdown",
   "id": "08c83423",
   "metadata": {},
   "source": [
    "## 데이터 확인 "
   ]
  },
  {
   "cell_type": "code",
   "execution_count": 29,
   "id": "1c9eab8a",
   "metadata": {},
   "outputs": [
    {
     "name": "stdout",
     "output_type": "stream",
     "text": [
      "코퍼스의 길이:  1020\n"
     ]
    }
   ],
   "source": [
    "f = open(\"file2/label2.txt\", \"r\", encoding=\"utf-8\")\n",
    "t = f.read().split('\\n')\n",
    "text1 = ''\n",
    "for i in t :\n",
    "    text1 = text1 + i\n",
    "print('text의 길이: ', len(text))"
   ]
  },
  {
   "cell_type": "code",
   "execution_count": 30,
   "id": "a6840d18",
   "metadata": {},
   "outputs": [
    {
     "data": {
      "text/plain": [
       "'가렵다.개를 공원에서 금요일에 내년에 내일은 냄새나다.가렵다.개를 공원에서 금요일에 내년에 내일은 냄새나다.가렵다.개를 공원에서 금요일에 내년에 내일은 냄새나다.누나가 동생이 목요일에 물.아래에 바다를 배고프다.병원에서 불.산에 삼키다.선생님께서 수요일에 아빠가 누나가 동생이 목요일에 물.아래에 바다를 배고프다.병원에서 불.산에 삼키다.선생님께서 수요일에 아빠가 누나가 동생이 목요일에 물.아래에 바다를 배고프다.병원에서 불.산에 삼키다.선생님께서 수요일에 아빠가 아파트에서 앞에 어제.어지러움 언니가 엄마가 오늘은 오른쪽에 오빠가 올해는 왼쪽에 월요일에 위에 아파트에서 앞에 어제.어지러움 언니가 엄마가 오늘은 오른쪽에 오빠가 올해는 왼쪽에 월요일에 위에 아파트에서 앞에 어제.어지러움 언니가 엄마가 오늘은 오른쪽에 오빠가 올해는 왼쪽에 월요일에 위에 음식물에서 일요일에 자동차가 작년에 집에 친구가 택시가 토요일에 학교에 형이 화요일에 화장실은 음식물에서 일요일에 자동차가 작년에 집에 친구가 택시가 토요일에 학교에 형이 화요일에 화장실은 음식물에서 일요일에 자동차가 작년에 집에 친구가 택시가 토요일에 학교에 형이 화요일에 화장실은 가다.감사합니다.괜찮습니다.나는 남자가 내리다.당신이 돕다.맞다.가다.감사합니다.괜찮습니다.나는 남자가 내리다.당신이 돕다.맞다.가다.감사합니다.괜찮습니다.나는 남자가 내리다.당신이 돕다.맞다.모르다.미안합니다.반드시.부탁합니다.빨리.수고했다.수화.슬프다.싫다.모르다.미안합니다.반드시.부탁합니다.빨리.수고했다.수화.슬프다.싫다.모르다.미안합니다.반드시.부탁합니다.빨리.수고했다.수화.슬프다.싫다.아니다.안녕하세요.알다.없다.여자.오다.있다.잘.좋다.주다.타다.아니다.안녕하세요.알다.없다.여자.오다.있다.잘.좋다.주다.타다.아니다.안녕하세요.알다.없다.여자.오다.있다.잘.좋다.주다.타다.끝.무엇입니까.키우다.우리는 단체이다.번역을 만들다.사랑합니다.어디에.끝.무엇입니까.키우다.우리는 단체이다.번역을 만들다.사랑합니다.어디에.끝.무엇입니까.키우다.우리는 단체이다.번역을 만들다.사랑합니다.어디에.'"
      ]
     },
     "execution_count": 30,
     "metadata": {},
     "output_type": "execute_result"
    }
   ],
   "source": [
    "text2 = text1.replace('. ','.') # 빈칸 대신 '.' 으로\n",
    "text = text2.replace(' ','.')\n",
    "#text"
   ]
  },
  {
   "cell_type": "markdown",
   "id": "f4efbb8c",
   "metadata": {},
   "source": [
    "## 데이터 저장"
   ]
  },
  {
   "cell_type": "code",
   "execution_count": 32,
   "id": "734ddb75",
   "metadata": {},
   "outputs": [],
   "source": [
    "# 함수 1 : 딕셔너리에 데이터 등록\n",
    "def make_dic(words):\n",
    "\n",
    "    tmp = [\"@\"]\n",
    "    dic = {}\n",
    "    for word in words:\n",
    "        tmp.append(word)\n",
    "        if len(tmp) < 1: continue \n",
    "        if len(tmp) > 2: tmp = tmp[1:]\n",
    "        set_word(dic, tmp)\n",
    "    return dic\n",
    "\n",
    "# 함수 2 : 딕셔너리에 데이터 등록\n",
    "def set_word(dic, s2):\n",
    "    w1, w2 = s2 \n",
    "    \n",
    "    if not w1 in dic:\n",
    "        dic[w1] = {}\n",
    "         \n",
    "    if not w2 in dic[w1]:\n",
    "        dic[w1][w2] = 1"
   ]
  },
  {
   "cell_type": "code",
   "execution_count": 33,
   "id": "5f9c63b5",
   "metadata": {},
   "outputs": [
    {
     "name": "stdout",
     "output_type": "stream",
     "text": [
      "dict_keys(['@', '가렵다', '.', '개', '를', '공원', '에서', '금요일', '에', '내년', '내일', '은', '냄새', '나다', '누나', '가', '동생', '이', '목요일', '물', '아래', '바다', '배고프다', '병원', '불', '산', '삼키다', '선생님', '께서', '수요일', '아빠', '아파트', '앞', '어제', '어지러움', '언니', '엄마', '오늘', '오른쪽', '오빠', '올해', '는', '왼쪽', '월요일', '위', '음식물', '일요일', '자동차', '작년', '집', '친구', '택시', '토요일', '학교', '형', '화요일', '화장실', '가다', '감사합니다', '괜찮습니다', '나', '남자', '내', '리다', '당신', '돕다', '맞다', '모르다', '미안합니다', '반드시', '부탁', '합니다', '빨리', '수고', '했다', '수화', '슬프다', '싫다', '아니다', '안녕하세요', '알다', '없다', '여자', '오다', '있다', '잘', '좋다', '주다', '타다', '끝', '무엇', '입', '니까', '키우다', '우리', '단체', '이다', '번역', '을', '만들다', '사랑', '어디'])\n"
     ]
    }
   ],
   "source": [
    "from konlpy.tag import Okt\n",
    "\n",
    "text = text.replace(\"…\", \"\") \n",
    "\n",
    "Okt=Okt()\n",
    "malist = Okt.pos(text, norm=True) \n",
    "words = []\n",
    "\n",
    "for word in malist:\n",
    "    if not word[1] in [\"Punctuation\"]:\n",
    "        words.append(word[0])\n",
    "    if word[0] == \".\":\n",
    "        words.append(word[0])\n",
    "dic = make_dic(words)\n",
    "print(dic.keys())"
   ]
  },
  {
   "cell_type": "markdown",
   "id": "0edb8b7f",
   "metadata": {},
   "source": [
    "## 데이터 가져오기 및 학습데이터 정제"
   ]
  },
  {
   "cell_type": "markdown",
   "id": "de8c5a26",
   "metadata": {},
   "source": [
    "## 학습데이터 정제"
   ]
  },
  {
   "cell_type": "code",
   "execution_count": 35,
   "id": "e2409afb",
   "metadata": {},
   "outputs": [
    {
     "name": "stdout",
     "output_type": "stream",
     "text": [
      "사용되고 있는 문자의 수: 102\n",
      "{'.': 0, '@': 1, '가': 2, '가다': 3, '가렵다': 4, '감사합니다': 5, '개': 6, '공원': 7, '괜찮습니다': 8, '금요일': 9, '께서': 10, '끝': 11, '나': 12, '나다': 13, '남자': 14, '내': 15, '내년': 16, '내일': 17, '냄새': 18, '누나': 19, '는': 20, '니까': 21, '단체': 22, '당신': 23, '돕다': 24, '동생': 25, '를': 26, '리다': 27, '만들다': 28, '맞다': 29, '모르다': 30, '목요일': 31, '무엇': 32, '물': 33, '미안합니다': 34, '바다': 35, '반드시': 36, '배고프다': 37, '번역': 38, '병원': 39, '부탁': 40, '불': 41, '빨리': 42, '사랑': 43, '산': 44, '삼키다': 45, '선생님': 46, '수고': 47, '수요일': 48, '수화': 49, '슬프다': 50, '싫다': 51, '아니다': 52, '아래': 53, '아빠': 54, '아파트': 55, '안녕하세요': 56, '알다': 57, '앞': 58, '어디': 59, '어제': 60, '어지러움': 61, '언니': 62, '엄마': 63, '없다': 64, '에': 65, '에서': 66, '여자': 67, '오늘': 68, '오다': 69, '오른쪽': 70, '오빠': 71, '올해': 72, '왼쪽': 73, '우리': 74, '월요일': 75, '위': 76, '은': 77, '을': 78, '음식물': 79, '이': 80, '이다': 81, '일요일': 82, '입': 83, '있다': 84, '자동차': 85, '작년': 86, '잘': 87, '좋다': 88, '주다': 89, '집': 90, '친구': 91, '키우다': 92, '타다': 93, '택시': 94, '토요일': 95, '학교': 96, '합니다': 97, '했다': 98, '형': 99, '화요일': 100, '화장실': 101}\n",
      "{0: '.', 1: '@', 2: '가', 3: '가다', 4: '가렵다', 5: '감사합니다', 6: '개', 7: '공원', 8: '괜찮습니다', 9: '금요일', 10: '께서', 11: '끝', 12: '나', 13: '나다', 14: '남자', 15: '내', 16: '내년', 17: '내일', 18: '냄새', 19: '누나', 20: '는', 21: '니까', 22: '단체', 23: '당신', 24: '돕다', 25: '동생', 26: '를', 27: '리다', 28: '만들다', 29: '맞다', 30: '모르다', 31: '목요일', 32: '무엇', 33: '물', 34: '미안합니다', 35: '바다', 36: '반드시', 37: '배고프다', 38: '번역', 39: '병원', 40: '부탁', 41: '불', 42: '빨리', 43: '사랑', 44: '산', 45: '삼키다', 46: '선생님', 47: '수고', 48: '수요일', 49: '수화', 50: '슬프다', 51: '싫다', 52: '아니다', 53: '아래', 54: '아빠', 55: '아파트', 56: '안녕하세요', 57: '알다', 58: '앞', 59: '어디', 60: '어제', 61: '어지러움', 62: '언니', 63: '엄마', 64: '없다', 65: '에', 66: '에서', 67: '여자', 68: '오늘', 69: '오다', 70: '오른쪽', 71: '오빠', 72: '올해', 73: '왼쪽', 74: '우리', 75: '월요일', 76: '위', 77: '은', 78: '을', 79: '음식물', 80: '이', 81: '이다', 82: '일요일', 83: '입', 84: '있다', 85: '자동차', 86: '작년', 87: '잘', 88: '좋다', 89: '주다', 90: '집', 91: '친구', 92: '키우다', 93: '타다', 94: '택시', 95: '토요일', 96: '학교', 97: '합니다', 98: '했다', 99: '형', 100: '화요일', 101: '화장실'}\n"
     ]
    }
   ],
   "source": [
    "chars = sorted(list(set(dic.keys()))) # 정렬\n",
    "print('사용되고 있는 문자의 수:', len(chars))\n",
    "\n",
    "char_indices = dict((c, i) for i, c in enumerate(chars)) # 문자 → ID\n",
    "indices_char = dict((i, c) for i, c in enumerate(chars)) # ID → 문자\n",
    "    \n",
    "print(char_indices)\n",
    "# print(indices_char)"
   ]
  },
  {
   "cell_type": "code",
   "execution_count": 36,
   "id": "d6a81547",
   "metadata": {},
   "outputs": [],
   "source": [
    "ci_dic = \"file2/ci_dic.json\" # 파일 저장\n",
    "ic_dic = \"file2/ic_dic.json\"\n",
    "json.dump(char_indices, open(ci_dic,\"w\", encoding=\"utf-8\"))\n",
    "json.dump(indices_char, open(ic_dic,\"w\", encoding=\"utf-8\"))"
   ]
  },
  {
   "cell_type": "code",
   "execution_count": 37,
   "id": "8c931266",
   "metadata": {},
   "outputs": [],
   "source": [
    "# char_indices = json.load(open(ci_dic,\"r\")) # 불러오기\n",
    "# indices_char = json.load(open(ic_dic,\"r\")) "
   ]
  },
  {
   "cell_type": "code",
   "execution_count": 38,
   "id": "3a5360a4",
   "metadata": {},
   "outputs": [
    {
     "name": "stdout",
     "output_type": "stream",
     "text": [
      "학습할 구문의 수: 659\n",
      "텍스트를 ID 벡터로 변환합니다...\n"
     ]
    }
   ],
   "source": [
    "sentences = []\n",
    "next_chars = []\n",
    "maxlen = 6\n",
    "for i in range(len(words)-1):\n",
    "    sentences.append(words[i])\n",
    "    next_chars.append(words[i + 1])\n",
    "\n",
    "print('학습 구문 수:', len(sentences))\n",
    "#print(sentences)\n",
    "#print(next_chars)"
   ]
  },
  {
   "cell_type": "code",
   "execution_count": 63,
   "id": "994feea9",
   "metadata": {},
   "outputs": [],
   "source": [
    "for i in range(len(sentences)): # .와 뒤의 값들은 제거\n",
    "    if sentences[i] == '.':\n",
    "        sentences.pop(i)\n",
    "        next_chars.pop(i)"
   ]
  },
  {
   "cell_type": "code",
   "execution_count": 42,
   "id": "13029a5c",
   "metadata": {},
   "outputs": [
    {
     "name": "stdout",
     "output_type": "stream",
     "text": [
      "['가렵다', '개', '를', '공원', '에서', '금요일', '에', '내년', '에', '내일', '은', '냄새', '나다', '가렵다', '개', '를', '공원', '에서', '금요일', '에', '내년', '에', '내일', '은', '냄새', '나다', '가렵다', '개', '를', '공원', '에서', '금요일', '에', '내년', '에', '내일', '은', '냄새', '나다', '누나', '가', '동생', '이', '목요일', '에', '물', '아래', '에', '바다', '를', '배고프다', '병원', '에서', '불', '산', '에', '삼키다', '선생님', '께서', '수요일', '에', '아빠', '가', '누나', '가', '동생', '이', '목요일', '에', '물', '아래', '에', '바다', '를', '배고프다', '병원', '에서', '불', '산', '에', '삼키다', '선생님', '께서', '수요일', '에', '아빠', '가', '누나', '가', '동생', '이', '목요일', '에', '물', '아래', '에', '바다', '를', '배고프다', '병원', '에서', '불', '산', '에', '삼키다', '선생님', '께서', '수요일', '에', '아빠', '가', '아파트', '에서', '앞', '에', '어제', '어지러움', '언니', '가', '엄마', '가', '오늘', '은', '오른쪽', '에', '오빠', '가', '올해', '는', '왼쪽', '에', '월요일', '에', '위', '에', '아파트', '에서', '앞', '에', '어제', '어지러움', '언니', '가', '엄마', '가', '오늘', '은', '오른쪽', '에', '오빠', '가', '올해', '는', '왼쪽', '에', '월요일', '에', '위', '에', '아파트', '에서', '앞', '에', '어제', '어지러움', '언니', '가', '엄마', '가', '오늘', '은', '오른쪽', '에', '오빠', '가', '올해', '는', '왼쪽', '에', '월요일', '에', '위', '에', '음식물', '에서', '일요일', '에', '자동차', '가', '작년', '에', '집', '에', '친구', '가', '택시', '가', '토요일', '에', '학교', '에', '형', '이', '화요일', '에', '화장실', '은', '음식물', '에서', '일요일', '에', '자동차', '가', '작년', '에', '집', '에', '친구', '가', '택시', '가', '토요일', '에', '학교', '에', '형', '이', '화요일', '에', '화장실', '은', '음식물', '에서', '일요일', '에', '자동차', '가', '작년', '에', '집', '에', '친구', '가', '택시', '가', '토요일', '에', '학교', '에', '형', '이', '화요일', '에', '화장실', '은', '가다', '감사합니다', '괜찮습니다', '나', '는', '남자', '가', '내', '리다', '당신', '이', '돕다', '맞다', '가다', '감사합니다', '괜찮습니다', '나', '는', '남자', '가', '내', '리다', '당신', '이', '돕다', '맞다', '가다', '감사합니다', '괜찮습니다', '나', '는', '남자', '가', '내', '리다', '당신', '이', '돕다', '맞다', '모르다', '미안합니다', '반드시', '부탁', '합니다', '빨리', '수고', '했다', '수화', '슬프다', '싫다', '모르다', '미안합니다', '반드시', '부탁', '합니다', '빨리', '수고', '했다', '수화', '슬프다', '싫다', '모르다', '미안합니다', '반드시', '부탁', '합니다', '빨리', '수고', '했다', '수화', '슬프다', '싫다', '아니다', '안녕하세요', '알다', '없다', '여자', '오다', '있다', '잘', '좋다', '주다', '타다', '아니다', '안녕하세요', '알다', '없다', '여자', '오다', '있다', '잘', '좋다', '주다', '타다', '아니다', '안녕하세요', '알다', '없다', '여자', '오다', '있다', '잘', '좋다', '주다', '타다', '끝', '무엇', '입', '니까', '키우다', '우리', '는', '단체', '이다', '번역', '을', '만들다', '사랑', '합니다', '어디', '에', '끝', '무엇', '입', '니까', '키우다', '우리', '는', '단체', '이다', '번역', '을', '만들다', '사랑', '합니다', '어디', '에', '끝', '무엇', '입', '니까', '키우다', '우리', '는', '단체', '이다', '번역', '을', '만들다', '사랑', '합니다', '어디', '에']\n",
      "['.', '를', '.', '에서', '.', '에', '.', '에', '.', '은', '.', '나다', '.', '.', '를', '.', '에서', '.', '에', '.', '에', '.', '은', '.', '나다', '.', '.', '를', '.', '에서', '.', '에', '.', '에', '.', '은', '.', '나다', '.', '가', '.', '이', '.', '에', '.', '.', '에', '.', '를', '.', '.', '에서', '.', '.', '에', '.', '.', '께서', '.', '에', '.', '가', '.', '가', '.', '이', '.', '에', '.', '.', '에', '.', '를', '.', '.', '에서', '.', '.', '에', '.', '.', '께서', '.', '에', '.', '가', '.', '가', '.', '이', '.', '에', '.', '.', '에', '.', '를', '.', '.', '에서', '.', '.', '에', '.', '.', '께서', '.', '에', '.', '가', '.', '에서', '.', '에', '.', '.', '.', '가', '.', '가', '.', '은', '.', '에', '.', '가', '.', '는', '.', '에', '.', '에', '.', '에', '.', '에서', '.', '에', '.', '.', '.', '가', '.', '가', '.', '은', '.', '에', '.', '가', '.', '는', '.', '에', '.', '에', '.', '에', '.', '에서', '.', '에', '.', '.', '.', '가', '.', '가', '.', '은', '.', '에', '.', '가', '.', '는', '.', '에', '.', '에', '.', '에', '.', '에서', '.', '에', '.', '가', '.', '에', '.', '에', '.', '가', '.', '가', '.', '에', '.', '에', '.', '이', '.', '에', '.', '은', '.', '에서', '.', '에', '.', '가', '.', '에', '.', '에', '.', '가', '.', '가', '.', '에', '.', '에', '.', '이', '.', '에', '.', '은', '.', '에서', '.', '에', '.', '가', '.', '에', '.', '에', '.', '가', '.', '가', '.', '에', '.', '에', '.', '이', '.', '에', '.', '은', '.', '.', '.', '.', '는', '.', '가', '.', '리다', '.', '이', '.', '.', '.', '.', '.', '.', '는', '.', '가', '.', '리다', '.', '이', '.', '.', '.', '.', '.', '.', '는', '.', '가', '.', '리다', '.', '이', '.', '.', '.', '.', '.', '.', '합니다', '.', '.', '했다', '.', '.', '.', '.', '.', '.', '.', '합니다', '.', '.', '했다', '.', '.', '.', '.', '.', '.', '.', '합니다', '.', '.', '했다', '.', '.', '.', '.', '.', '.', '.', '.', '.', '.', '.', '.', '.', '.', '.', '.', '.', '.', '.', '.', '.', '.', '.', '.', '.', '.', '.', '.', '.', '.', '.', '.', '.', '.', '.', '.', '.', '.', '입', '니까', '.', '.', '는', '.', '이다', '.', '을', '.', '.', '합니다', '.', '에', '.', '.', '입', '니까', '.', '.', '는', '.', '이다', '.', '을', '.', '.', '합니다', '.', '에', '.', '.', '입', '니까', '.', '.', '는', '.', '이다', '.', '을', '.', '.', '합니다', '.', '에', '.']\n"
     ]
    }
   ],
   "source": [
    "print(sentences) # 확인\n",
    "print(next_chars)"
   ]
  },
  {
   "cell_type": "markdown",
   "id": "a86e543f",
   "metadata": {},
   "source": [
    "## 모델"
   ]
  },
  {
   "cell_type": "code",
   "execution_count": 43,
   "id": "ca3c9ebe",
   "metadata": {},
   "outputs": [],
   "source": [
    "X = np.zeros((len(sentences), maxlen, len(chars)), dtype=np.bool_)\n",
    "y = np.zeros((len(sentences), len(chars)), dtype=np.bool_)\n",
    "\n",
    "for i in range(len(sentences)) :  \n",
    "    X[ i, len(sentences[i]), char_indices[sentences[i]] ] = 1.\n",
    "    y[ i, char_indices[next_chars[i]] ] = 1"
   ]
  },
  {
   "cell_type": "code",
   "execution_count": 44,
   "id": "a19be3d7",
   "metadata": {},
   "outputs": [],
   "source": [
    "from sklearn.model_selection import train_test_split\n",
    "x_train, x_test, y_train, y_test = train_test_split(X,y,test_size=0.3, random_state=42)"
   ]
  },
  {
   "cell_type": "code",
   "execution_count": 45,
   "id": "54f1d3fc",
   "metadata": {},
   "outputs": [
    {
     "name": "stdout",
     "output_type": "stream",
     "text": [
      "모델1을 구축합니다...\n",
      "Model: \"sequential\"\n",
      "_________________________________________________________________\n",
      " Layer (type)                Output Shape              Param #   \n",
      "=================================================================\n",
      " lstm (LSTM)                 (None, 128)               118272    \n",
      "                                                                 \n",
      " dense (Dense)               (None, 102)               13158     \n",
      "                                                                 \n",
      " activation (Activation)     (None, 102)               0         \n",
      "                                                                 \n",
      "=================================================================\n",
      "Total params: 131,430\n",
      "Trainable params: 131,430\n",
      "Non-trainable params: 0\n",
      "_________________________________________________________________\n"
     ]
    }
   ],
   "source": [
    "from tensorflow import keras\n",
    "from bs4 import BeautifulSoup\n",
    "from keras.models import Sequential\n",
    "from keras.layers import Dense, Activation, Dropout\n",
    "from keras.layers import LSTM\n",
    "from tensorflow.keras import optimizers\n",
    "\n",
    "from sklearn.metrics import mean_squared_error\n",
    "from sklearn.metrics import mean_absolute_error\n",
    "from sklearn.metrics import r2_score\n",
    "\n",
    "# 모델 구축하기(LSTM)\n",
    "print('모델1 구축...')\n",
    "keras.backend.clear_session()\n",
    "\n",
    "model1 = Sequential()\n",
    "\n",
    "model1.add(LSTM(128, input_shape=(maxlen, len(chars))))\n",
    "\n",
    "model1.add(Dense(len(chars)))\n",
    "\n",
    "model1.add(Activation('softmax'))\n",
    "\n",
    "optimizer = optimizers.RMSprop(learning_rate=0.01)\n",
    "\n",
    "model1.compile(loss='categorical_crossentropy', optimizer=optimizer)\n",
    "model1.summary()"
   ]
  },
  {
   "cell_type": "code",
   "execution_count": 47,
   "id": "89fecac7",
   "metadata": {},
   "outputs": [
    {
     "name": "stdout",
     "output_type": "stream",
     "text": [
      "MSE:  0.00095647894\n",
      "RMSE:  0.03092699364846256\n",
      "MAE:  0.0009564804\n",
      "R2:  0.13191736298382029\n"
     ]
    }
   ],
   "source": [
    "model1.fit(x_train, y_train, batch_size=64, epochs=1000, verbose=0) \n",
    "y_pred = model1.predict(x_test, verbose=0)\n",
    "\n",
    "print('MSE: ', mean_squared_error(y_test, y_pred))\n",
    "print('RMSE: ', mean_squared_error(y_test, y_pred)**(1/2)) # 오차제곱의 평균(MSE) 의 루트\n",
    "print('MAE: ',mean_absolute_error(y_test, y_pred)) \n",
    "print('R2: ', r2_score(y_test, y_pred)) #  결과 값 정도의 오류가 있는 것,1에 가까울수록 클수록 좋음"
   ]
  },
  {
   "cell_type": "code",
   "execution_count": 62,
   "id": "3a0f267f",
   "metadata": {},
   "outputs": [],
   "source": [
    "#model1.save('lstmmodel')\n",
    "model1.save(\"file2/WTS_model2.h5\")"
   ]
  },
  {
   "cell_type": "markdown",
   "id": "e6e25d22",
   "metadata": {},
   "source": [
    "## 모델 테스트"
   ]
  },
  {
   "cell_type": "code",
   "execution_count": 48,
   "id": "95547642",
   "metadata": {},
   "outputs": [],
   "source": [
    "#  예측 값 -> char로\n",
    "def sample(preds, temperature=1.0):\n",
    "    preds = np.asarray(preds).astype('float64')\n",
    "    preds = np.log(preds) / temperature\n",
    "    exp_preds = np.exp(preds)\n",
    "    preds = exp_preds / np.sum(exp_preds)\n",
    "    probas = np.random.multinomial(1, preds, 1)\n",
    "    return np.argmax(probas)"
   ]
  },
  {
   "cell_type": "code",
   "execution_count": 55,
   "id": "37a4bc83",
   "metadata": {},
   "outputs": [],
   "source": [
    "def predict_mo(lst):\n",
    "    result =''\n",
    "    \n",
    "    for i in lst:\n",
    "        # print(i)\n",
    "        if char_indices.get(i) == None: # 입력값이 모델학습데이터에 없을 때\n",
    "            result += i + ' '\n",
    "            continue\n",
    "        \n",
    "        if i[-1] == '끝': # 과거형 \n",
    "            if result[-2] == '다':\n",
    "                result = result[:-2]\n",
    "                result += '었다 '\n",
    "            continue\n",
    "        \n",
    "        x = np.zeros((1, 6, len(chars)))\n",
    "        x[0, len(i), char_indices[i]] = 1.\n",
    "\n",
    "        preds = model1.predict(x, verbose=0)[0]\n",
    "        next_index = sample(preds)\n",
    "        next_char = indices_char[next_index]\n",
    "        \n",
    "        if next_char == '.': # .은 빈칸처리\n",
    "            result += i + ' '\n",
    "            continue\n",
    "            \n",
    "        result += i + next_char + ' '\n",
    "        \n",
    "    return result"
   ]
  },
  {
   "cell_type": "code",
   "execution_count": 64,
   "id": "f0325646",
   "metadata": {},
   "outputs": [
    {
     "name": "stdout",
     "output_type": "stream",
     "text": [
      "안녕하세요 우리는 2 단체이다 수화 번역을 만들었다 잘 부탁합니다 \n"
     ]
    }
   ],
   "source": [
    "lst = ['안녕하세요','우리','2','단체','수화','번역','만들다', '끝' , '잘', '부탁합니다']\n",
    "\n",
    "sentence = predict_mo(lst)\n",
    "print(sentence)"
   ]
  },
  {
   "cell_type": "code",
   "execution_count": 57,
   "id": "0181bcd8",
   "metadata": {},
   "outputs": [
    {
     "name": "stdout",
     "output_type": "stream",
     "text": [
      "나는 집에 개를 키우다 \n"
     ]
    }
   ],
   "source": [
    "lst = ['나','집','개','키우다']\n",
    "print(predict_mo(lst))"
   ]
  },
  {
   "cell_type": "code",
   "execution_count": null,
   "id": "3621e473",
   "metadata": {},
   "outputs": [],
   "source": []
  }
 ],
 "metadata": {
  "kernelspec": {
   "display_name": "Python 3",
   "language": "python",
   "name": "python3"
  },
  "language_info": {
   "codemirror_mode": {
    "name": "ipython",
    "version": 3
   },
   "file_extension": ".py",
   "mimetype": "text/x-python",
   "name": "python",
   "nbconvert_exporter": "python",
   "pygments_lexer": "ipython3",
   "version": "3.8.8"
  }
 },
 "nbformat": 4,
 "nbformat_minor": 5
}
