{
 "cells": [
  {
   "cell_type": "markdown",
   "id": "892fd829",
   "metadata": {},
   "source": [
    "### 학습데이터 가져오기"
   ]
  },
  {
   "cell_type": "code",
   "execution_count": 1,
   "id": "d6fd723f",
   "metadata": {},
   "outputs": [],
   "source": [
    "import pandas as pd"
   ]
  },
  {
   "cell_type": "code",
   "execution_count": 2,
   "id": "63ebf93a",
   "metadata": {},
   "outputs": [
    {
     "data": {
      "text/html": [
       "<div>\n",
       "<style scoped>\n",
       "    .dataframe tbody tr th:only-of-type {\n",
       "        vertical-align: middle;\n",
       "    }\n",
       "\n",
       "    .dataframe tbody tr th {\n",
       "        vertical-align: top;\n",
       "    }\n",
       "\n",
       "    .dataframe thead th {\n",
       "        text-align: right;\n",
       "    }\n",
       "</style>\n",
       "<table border=\"1\" class=\"dataframe\">\n",
       "  <thead>\n",
       "    <tr style=\"text-align: right;\">\n",
       "      <th></th>\n",
       "      <th>0</th>\n",
       "      <th>1</th>\n",
       "      <th>2</th>\n",
       "      <th>3</th>\n",
       "      <th>4</th>\n",
       "      <th>5</th>\n",
       "      <th>6</th>\n",
       "      <th>7</th>\n",
       "      <th>8</th>\n",
       "      <th>9</th>\n",
       "      <th>10</th>\n",
       "      <th>11</th>\n",
       "      <th>12</th>\n",
       "      <th>13</th>\n",
       "      <th>14</th>\n",
       "      <th>word</th>\n",
       "    </tr>\n",
       "  </thead>\n",
       "  <tbody>\n",
       "    <tr>\n",
       "      <th>0</th>\n",
       "      <td>0.000000</td>\n",
       "      <td>1.000000</td>\n",
       "      <td>2.000000</td>\n",
       "      <td>3.000000</td>\n",
       "      <td>4.000000</td>\n",
       "      <td>5.000000</td>\n",
       "      <td>6.000000</td>\n",
       "      <td>7.000000</td>\n",
       "      <td>8.000000</td>\n",
       "      <td>9.000000</td>\n",
       "      <td>10.000000</td>\n",
       "      <td>11.000000</td>\n",
       "      <td>12.000000</td>\n",
       "      <td>13.000000</td>\n",
       "      <td>14.000000</td>\n",
       "      <td>0</td>\n",
       "    </tr>\n",
       "    <tr>\n",
       "      <th>1</th>\n",
       "      <td>9.775202</td>\n",
       "      <td>42.653847</td>\n",
       "      <td>48.574692</td>\n",
       "      <td>88.114761</td>\n",
       "      <td>81.994308</td>\n",
       "      <td>77.961464</td>\n",
       "      <td>94.898933</td>\n",
       "      <td>125.443275</td>\n",
       "      <td>56.925583</td>\n",
       "      <td>99.828987</td>\n",
       "      <td>133.625732</td>\n",
       "      <td>42.530487</td>\n",
       "      <td>95.065498</td>\n",
       "      <td>127.851860</td>\n",
       "      <td>43.441200</td>\n",
       "      <td>0</td>\n",
       "    </tr>\n",
       "    <tr>\n",
       "      <th>2</th>\n",
       "      <td>6.263029</td>\n",
       "      <td>31.672340</td>\n",
       "      <td>44.058716</td>\n",
       "      <td>85.427307</td>\n",
       "      <td>92.551010</td>\n",
       "      <td>68.258530</td>\n",
       "      <td>95.238327</td>\n",
       "      <td>140.307175</td>\n",
       "      <td>50.154953</td>\n",
       "      <td>96.317352</td>\n",
       "      <td>142.986740</td>\n",
       "      <td>33.830708</td>\n",
       "      <td>89.198883</td>\n",
       "      <td>154.159714</td>\n",
       "      <td>24.125689</td>\n",
       "      <td>0</td>\n",
       "    </tr>\n",
       "    <tr>\n",
       "      <th>3</th>\n",
       "      <td>3.274355</td>\n",
       "      <td>35.845413</td>\n",
       "      <td>56.542858</td>\n",
       "      <td>87.792763</td>\n",
       "      <td>81.150269</td>\n",
       "      <td>79.849731</td>\n",
       "      <td>96.075310</td>\n",
       "      <td>123.107735</td>\n",
       "      <td>63.225262</td>\n",
       "      <td>101.310402</td>\n",
       "      <td>122.436287</td>\n",
       "      <td>51.923023</td>\n",
       "      <td>95.235603</td>\n",
       "      <td>119.647964</td>\n",
       "      <td>55.850574</td>\n",
       "      <td>0</td>\n",
       "    </tr>\n",
       "    <tr>\n",
       "      <th>4</th>\n",
       "      <td>9.847301</td>\n",
       "      <td>11.863350</td>\n",
       "      <td>15.241724</td>\n",
       "      <td>80.611069</td>\n",
       "      <td>95.893417</td>\n",
       "      <td>68.396011</td>\n",
       "      <td>85.418083</td>\n",
       "      <td>134.784088</td>\n",
       "      <td>51.781860</td>\n",
       "      <td>81.750557</td>\n",
       "      <td>142.081360</td>\n",
       "      <td>33.402031</td>\n",
       "      <td>68.771431</td>\n",
       "      <td>159.354568</td>\n",
       "      <td>19.040119</td>\n",
       "      <td>0</td>\n",
       "    </tr>\n",
       "  </tbody>\n",
       "</table>\n",
       "</div>"
      ],
      "text/plain": [
       "          0          1          2          3          4          5          6  \\\n",
       "0  0.000000   1.000000   2.000000   3.000000   4.000000   5.000000   6.000000   \n",
       "1  9.775202  42.653847  48.574692  88.114761  81.994308  77.961464  94.898933   \n",
       "2  6.263029  31.672340  44.058716  85.427307  92.551010  68.258530  95.238327   \n",
       "3  3.274355  35.845413  56.542858  87.792763  81.150269  79.849731  96.075310   \n",
       "4  9.847301  11.863350  15.241724  80.611069  95.893417  68.396011  85.418083   \n",
       "\n",
       "            7          8           9          10         11         12  \\\n",
       "0    7.000000   8.000000    9.000000   10.000000  11.000000  12.000000   \n",
       "1  125.443275  56.925583   99.828987  133.625732  42.530487  95.065498   \n",
       "2  140.307175  50.154953   96.317352  142.986740  33.830708  89.198883   \n",
       "3  123.107735  63.225262  101.310402  122.436287  51.923023  95.235603   \n",
       "4  134.784088  51.781860   81.750557  142.081360  33.402031  68.771431   \n",
       "\n",
       "           13         14  word  \n",
       "0   13.000000  14.000000     0  \n",
       "1  127.851860  43.441200     0  \n",
       "2  154.159714  24.125689     0  \n",
       "3  119.647964  55.850574     0  \n",
       "4  159.354568  19.040119     0  "
      ]
     },
     "execution_count": 2,
     "metadata": {},
     "output_type": "execute_result"
    }
   ],
   "source": [
    "data = pd.read_csv('word.csv')\n",
    "data.head()"
   ]
  },
  {
   "cell_type": "code",
   "execution_count": 3,
   "id": "3315ee27",
   "metadata": {},
   "outputs": [
    {
     "name": "stdout",
     "output_type": "stream",
     "text": [
      "<class 'pandas.core.frame.DataFrame'>\n",
      "RangeIndex: 3197 entries, 0 to 3196\n",
      "Data columns (total 16 columns):\n",
      " #   Column  Non-Null Count  Dtype  \n",
      "---  ------  --------------  -----  \n",
      " 0   0       3197 non-null   float64\n",
      " 1   1       3197 non-null   float64\n",
      " 2   2       3197 non-null   float64\n",
      " 3   3       3197 non-null   float64\n",
      " 4   4       3197 non-null   float64\n",
      " 5   5       3197 non-null   float64\n",
      " 6   6       3197 non-null   float64\n",
      " 7   7       3197 non-null   float64\n",
      " 8   8       3197 non-null   float64\n",
      " 9   9       3197 non-null   float64\n",
      " 10  10      3197 non-null   float64\n",
      " 11  11      3197 non-null   float64\n",
      " 12  12      3197 non-null   float64\n",
      " 13  13      3197 non-null   float64\n",
      " 14  14      3197 non-null   float64\n",
      " 15  word    3197 non-null   int64  \n",
      "dtypes: float64(15), int64(1)\n",
      "memory usage: 399.8 KB\n"
     ]
    }
   ],
   "source": [
    "data.info()"
   ]
  },
  {
   "cell_type": "code",
   "execution_count": 4,
   "id": "1eb3a053",
   "metadata": {},
   "outputs": [],
   "source": [
    "# data=data.astype({'word': object}) \n",
    "# data"
   ]
  },
  {
   "cell_type": "markdown",
   "id": "099b60d6",
   "metadata": {},
   "source": [
    "### train test 분리"
   ]
  },
  {
   "cell_type": "code",
   "execution_count": 5,
   "id": "80e3c01c",
   "metadata": {},
   "outputs": [],
   "source": [
    "target = 'word'\n",
    "x = data.drop(target, axis = 1)\n",
    "y = data.loc[:, target]\n",
    "x = (x-x.min()) / (x.max() - x.min())"
   ]
  },
  {
   "cell_type": "code",
   "execution_count": 6,
   "id": "f8d2d9a2",
   "metadata": {},
   "outputs": [],
   "source": [
    "from sklearn.model_selection import train_test_split\n",
    "\n",
    "x_train, x_test, y_train, y_test = train_test_split(x,y,test_size=0.3, random_state = 42)"
   ]
  },
  {
   "cell_type": "code",
   "execution_count": 7,
   "id": "6505f7f4",
   "metadata": {},
   "outputs": [
    {
     "data": {
      "text/plain": [
       "(2237, 15)"
      ]
     },
     "execution_count": 7,
     "metadata": {},
     "output_type": "execute_result"
    }
   ],
   "source": [
    "x_train.shape"
   ]
  },
  {
   "cell_type": "markdown",
   "id": "d5151e2a",
   "metadata": {},
   "source": [
    "### 모델링"
   ]
  },
  {
   "cell_type": "code",
   "execution_count": 8,
   "id": "41c2e501",
   "metadata": {},
   "outputs": [],
   "source": [
    "from sklearn.neighbors import KNeighborsClassifier\n",
    "\n",
    "knn_model = KNeighborsClassifier(n_neighbors=5)\n",
    "knn_model.fit(x_train, y_train)\n",
    "knn_pred = knn_model.predict(x_test)"
   ]
  },
  {
   "cell_type": "code",
   "execution_count": 9,
   "id": "5100d72d",
   "metadata": {},
   "outputs": [
    {
     "name": "stdout",
     "output_type": "stream",
     "text": [
      "              precision    recall  f1-score   support\n",
      "\n",
      "           0       0.94      0.95      0.95       123\n",
      "           1       0.93      0.95      0.94       113\n",
      "           2       0.99      1.00      1.00       114\n",
      "           3       1.00      1.00      1.00       123\n",
      "           4       1.00      0.99      1.00       123\n",
      "           5       0.98      0.98      0.98       114\n",
      "           6       0.81      0.91      0.86        96\n",
      "           7       0.95      0.86      0.90       154\n",
      "\n",
      "    accuracy                           0.95       960\n",
      "   macro avg       0.95      0.96      0.95       960\n",
      "weighted avg       0.95      0.95      0.95       960\n",
      "\n"
     ]
    }
   ],
   "source": [
    "from sklearn.metrics import classification_report\n",
    "print(classification_report(y_test, knn_pred))"
   ]
  },
  {
   "cell_type": "code",
   "execution_count": 11,
   "id": "0c05beef",
   "metadata": {},
   "outputs": [
    {
     "data": {
      "text/plain": [
       "['knnmodel_mo.pkl']"
      ]
     },
     "execution_count": 11,
     "metadata": {},
     "output_type": "execute_result"
    }
   ],
   "source": [
    "# 모델 저장\n",
    "import joblib\n",
    "joblib.dump(knn_model, 'knnmodel_mo.pkl')"
   ]
  }
 ],
 "metadata": {
  "kernelspec": {
   "display_name": "Python 3",
   "language": "python",
   "name": "python3"
  },
  "language_info": {
   "codemirror_mode": {
    "name": "ipython",
    "version": 3
   },
   "file_extension": ".py",
   "mimetype": "text/x-python",
   "name": "python",
   "nbconvert_exporter": "python",
   "pygments_lexer": "ipython3",
   "version": "3.8.8"
  }
 },
 "nbformat": 4,
 "nbformat_minor": 5
}
