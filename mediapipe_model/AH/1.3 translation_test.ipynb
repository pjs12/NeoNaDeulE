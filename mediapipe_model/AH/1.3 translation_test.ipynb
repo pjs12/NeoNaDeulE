{
 "cells": [
  {
   "cell_type": "code",
   "execution_count": 1,
   "id": "18015053",
   "metadata": {},
   "outputs": [],
   "source": [
    "# !pip install mediapipe"
   ]
  },
  {
   "cell_type": "markdown",
   "id": "2f7cd2be",
   "metadata": {},
   "source": [
    "#### 선언부분"
   ]
  },
  {
   "cell_type": "code",
   "execution_count": 5,
   "id": "c0fb02b8",
   "metadata": {},
   "outputs": [
    {
     "data": {
      "text/plain": [
       "True"
      ]
     },
     "execution_count": 5,
     "metadata": {},
     "output_type": "execute_result"
    }
   ],
   "source": [
    "import cv2\n",
    "import mediapipe as mp\n",
    "import numpy as np\n",
    "\n",
    "max_num_hands = 2 # 두개 손\n",
    "gesture = {\n",
    "    0 :'right1', # 추워요 오른손\n",
    "    1 :'left1',  # 추워요 왼손\n",
    "    2 : 'right2', # 감사해요 오른손\n",
    "    3 :'left2',  # 감사해요 왼손\n",
    "}\n",
    "Text = []\n",
    "\n",
    "# MediaPipe hands model\n",
    "mp_hands = mp.solutions.hands\n",
    "mp_drawing = mp.solutions.drawing_utils\n",
    "hands = mp_hands.Hands(\n",
    "    max_num_hands=max_num_hands,\n",
    "    min_detection_confidence=0.5,\n",
    "    min_tracking_confidence=0.5)\n",
    "\n",
    "# Gesture recognition model\n",
    "file = np.genfromtxt('word.csv', delimiter=',')\n",
    "angle = file[:,:-1].astype(np.float32)\n",
    "label = file[:, -1].astype(np.float32)\n",
    "\n",
    "knn = cv2.ml.KNearest_create()\n",
    "knn.train(angle, cv2.ml.ROW_SAMPLE, label)"
   ]
  },
  {
   "cell_type": "code",
   "execution_count": 6,
   "id": "474ada16",
   "metadata": {},
   "outputs": [],
   "source": [
    "cap = cv2.VideoCapture(0)\n",
    "\n",
    "while cap.isOpened():\n",
    "    ret, img = cap.read()\n",
    "    if not ret:\n",
    "        continue\n",
    "\n",
    "    img = cv2.flip(img, 1)\n",
    "    img = cv2.cvtColor(img, cv2.COLOR_BGR2RGB)\n",
    "\n",
    "    result = hands.process(img)\n",
    "\n",
    "    img = cv2.cvtColor(img, cv2.COLOR_RGB2BGR)\n",
    "\n",
    "    if result.multi_hand_landmarks is not None:\n",
    "        rps_result = []\n",
    "\n",
    "        for res in result.multi_hand_landmarks:\n",
    "            joint = np.zeros((21, 3))\n",
    "            for j, lm in enumerate(res.landmark):\n",
    "                joint[j] = [lm.x, lm.y, lm.z]\n",
    "\n",
    "            # Compute angles between joints\n",
    "            v1 = joint[[0,1,2,3,0,5,6,7,0,9,10,11,0,13,14,15,0,17,18,19],:] # Parent joint\n",
    "            v2 = joint[[1,2,3,4,5,6,7,8,9,10,11,12,13,14,15,16,17,18,19,20],:] # Child joint\n",
    "            v = v2 - v1 # [20,3]\n",
    "            # Normalize v\n",
    "            v = v / np.linalg.norm(v, axis=1)[:, np.newaxis]\n",
    "\n",
    "            # Get angle using arcos of dot product\n",
    "            angle = np.arccos(np.einsum('nt,nt->n',\n",
    "                v[[0,1,2,4,5,6,8,9,10,12,13,14,16,17,18],:], \n",
    "                v[[1,2,3,5,6,7,9,10,11,13,14,15,17,18,19],:])) # [15,]\n",
    "\n",
    "            angle = np.degrees(angle) # Convert radian to degree\n",
    "            \n",
    "            # Inference gesture\n",
    "            data = np.array([angle], dtype=np.float32)\n",
    "            \n",
    "            #angle_data = np.append(angle_data, data, axis=0)\n",
    "            \n",
    "            ret, results, neighbours, dist = knn.findNearest(data, 3)\n",
    "            idx = int(results[0][0])\n",
    "\n",
    "            # Draw gesture result 제스쳐 값\n",
    "            if idx in gesture.keys():\n",
    "                org = (int(res.landmark[0].x * img.shape[1]), int(res.landmark[0].y * img.shape[0]))\n",
    "                cv2.putText(img, text=gesture[idx].upper(), org=(org[0], org[1] + 20), fontFace=cv2.FONT_HERSHEY_SIMPLEX, fontScale=1, color=(255, 255, 255), thickness=2)\n",
    "\n",
    "                rps_result.append({\n",
    "                    'rps': gesture[idx],\n",
    "                    'org': org\n",
    "                })\n",
    "\n",
    "            mp_drawing.draw_landmarks(img, res, mp_hands.HAND_CONNECTIONS)\n",
    "\n",
    "            # means\n",
    "            if len(rps_result) >= 2:\n",
    "                text = ''\n",
    "\n",
    "                if rps_result[0]['rps']=='right1':\n",
    "                    if rps_result[1]['rps']=='left1'     : text = 'cold'\n",
    "                elif rps_result[0]['rps']=='left1':\n",
    "                    if rps_result[1]['rps']=='right1'     : text = 'cold' \n",
    "                        \n",
    "                # thanks\n",
    "                elif rps_result[0]['rps']=='right2':\n",
    "                    if rps_result[1]['rps']=='left2'     : text = 'thanks'\n",
    "                elif rps_result[0]['rps']=='left2':\n",
    "                    if rps_result[1]['rps']=='right2'     : text = 'thanks' \n",
    "                    \n",
    "                cv2.putText(img, text=text,\n",
    "                            org=(int(img.shape[1] / 2), 100),\n",
    "                            fontFace=cv2.FONT_HERSHEY_SIMPLEX,\n",
    "                            fontScale=2,\n",
    "                            color=(0, 0, 255),\n",
    "                            thickness=3)\n",
    "                Text.append(text)\n",
    "\n",
    "    cv2.imshow('print_word', img)\n",
    "    if cv2.waitKey(1) == ord('q'):\n",
    "        break"
   ]
  },
  {
   "cell_type": "markdown",
   "id": "c493d9e5",
   "metadata": {},
   "source": [
    "#### 텍스트로 받기"
   ]
  },
  {
   "cell_type": "code",
   "execution_count": 8,
   "id": "d941169c",
   "metadata": {},
   "outputs": [
    {
     "data": {
      "text/plain": [
       "['', 'cold', 'thanks']"
      ]
     },
     "execution_count": 8,
     "metadata": {},
     "output_type": "execute_result"
    }
   ],
   "source": [
    "txtSet = set(Text)\n",
    "txtlist = list(txtSet)\n",
    "txtlist"
   ]
  },
  {
   "cell_type": "code",
   "execution_count": 9,
   "id": "505bc02d",
   "metadata": {},
   "outputs": [],
   "source": [
    "cv2.destroyAllWindows()\n",
    "cap.release()"
   ]
  }
 ],
 "metadata": {
  "kernelspec": {
   "display_name": "Python 3",
   "language": "python",
   "name": "python3"
  },
  "language_info": {
   "codemirror_mode": {
    "name": "ipython",
    "version": 3
   },
   "file_extension": ".py",
   "mimetype": "text/x-python",
   "name": "python",
   "nbconvert_exporter": "python",
   "pygments_lexer": "ipython3",
   "version": "3.8.8"
  }
 },
 "nbformat": 4,
 "nbformat_minor": 5
}
