{
 "cells": [
  {
   "cell_type": "code",
   "execution_count": 11,
   "id": "7a099c67",
   "metadata": {},
   "outputs": [],
   "source": [
    "import os\n",
    "import codecs\n",
    "from bs4 import BeautifulSoup\n",
    "from konlpy.tag import Okt\n",
    "import urllib.request\n",
    "import os, re, json, random\n",
    "import requests"
   ]
  },
  {
   "cell_type": "code",
   "execution_count": 12,
   "id": "de764864",
   "metadata": {},
   "outputs": [
    {
     "name": "stdout",
     "output_type": "stream",
     "text": [
      "오늘 날씨가 좋네요.나는 배가 고파요.나는 추워요.하늘이 파랗다. 만나서 반가워요.역으로 가는 길이 어딘가요.이 물건은 얼마인가요.나는 아파요.나는 배가 아파요.나는 머리가 아파요.안녕하세요.제 이름은 홍길동입니다.저의 나이는 0살입니다.저는 인천에 살고 있습니다.나는 모델링을 하고 있습니다.너무 안됩니다.힘들다.어렵다.언제 값이 제대로 나올지 잘 모르겠습니다. 시장에 가다.오늘 날씨가 좋네요.나는 배가 고파요.나는 추워요.하늘이 파랗다. 만나서 반가워요.역으로 가는 길이 어딘가요.이 물건은 얼마인가요.나는 아파요.나는 배가 아파요.나는 머리가 아파요.안녕하세요.제 이름은 홍길동입니다.저의 나이는 0살입니다.저는 인천에 살고 있습니다.나는 모델링을 하고 있습니다.너무 안됩니다.힘들다.어렵다.언제 값이 제대로 나올지 잘 모르겠습니다. 시장에 가다.오늘 날씨가 좋네요.나는 배가 고파요.나는 추워요.하늘이 파랗다. 만나서 반가워요.역으로 가는 길이 어딘가요.이 물건은 얼마인가요.나는 아파요.나는 배가 아파요.나는 머리가 아파요.안녕하세요.제 이름은 홍길동입니다.저의 나이는 0살입니다.저는 인천에 살고 있습니다.나는 모델링을 하고 있습니다.너무 안됩니다.힘들다.어렵다.언제 값이 제대로 나올지 잘 모르겠습니다. 시장에 가다.오늘 날씨가 좋네요.나는 배가 고파요.나는 추워요.하늘이 파랗다. 만나서 반가워요.역으로 가는 길이 어딘가요.이 물건은 얼마인가요.나는 아파요.나는 배가 아파요.나는 머리가 아파요.안녕하세요.제 이름은 홍길동입니다.저의 나이는 0살입니다.저는 인천에 살고 있습니다.나는 모델링을 하고 있습니다.너무 안됩니다.힘들다.어렵다.언제 값이 제대로 나올지 잘 모르겠습니다. 시장에 가다.오늘은 날씨가 맑다.오늘은 날씨가 맑다.오늘은 날씨가 맑다.\n"
     ]
    }
   ],
   "source": [
    "# 데이터 읽어오기\n",
    "f = open(\"file/sentence.txt\", \"r\", encoding=\"utf-8\")\n",
    "t = f.read().split('\\n')\n",
    "text = ''\n",
    "for i in t :\n",
    "    text = text + i\n",
    "print(text)"
   ]
  },
  {
   "cell_type": "code",
   "execution_count": 14,
   "id": "c72cb036",
   "metadata": {},
   "outputs": [],
   "source": [
    "# 함수1 : 딕셔너리에 데이터 등록\n",
    "def make_dic(words):\n",
    "    tmp = [\"@\"]\n",
    "    dic = {}\n",
    "    for word in words:\n",
    "        tmp.append(word)\n",
    "        if len(tmp) < 1: continue # 3\n",
    "        if len(tmp) > 2: tmp = tmp[1:]# 3\n",
    "        m = twitter.pos(tmp[0], norm=True)\n",
    "        if m[0][1] ==  'Verb' or m[0][1] == 'Josa':\n",
    "            continue\n",
    "        set_word(dic, tmp)\n",
    "        if word == \".\":\n",
    "            tmp = [\"@\"]\n",
    "            continue   \n",
    "    return dic"
   ]
  },
  {
   "cell_type": "code",
   "execution_count": 15,
   "id": "d2798bf0",
   "metadata": {},
   "outputs": [],
   "source": [
    "# 함수2 : 딕셔너리에 데이터 등록\n",
    "def set_word(dic, s2):\n",
    "    w1, w2 = s2    \n",
    "    if not w1 in dic:\n",
    "        dic[w1] = {}\n",
    "    #print(dic)    \n",
    "    if not w2 in dic[w1]:\n",
    "        dic[w1][w2] = 1"
   ]
  },
  {
   "cell_type": "code",
   "execution_count": 16,
   "id": "c849302a",
   "metadata": {},
   "outputs": [
    {
     "name": "stdout",
     "output_type": "stream",
     "text": [
      "{'@': {'오늘': 1, '나': 1, '하늘': 1, '만나서': 1, '역': 1, '이': 1, '안녕하세요': 1, '제': 1, '저': 1, '너무': 1, '힘들다': 1, '어렵다': 1, '언제': 1}, '오늘': {'날씨': 1}, '날씨': {'가': 1}, '좋네요': {'.': 1}, '나': {'는': 1}, '배': {'가': 1}, '고파요': {'.': 1}, '추워요': {'.': 1}, '하늘': {'이': 1}, '이': {'파랗다': 1, '물건': 1, '제대로': 1}, '파랗다': {'.': 1}, '반가워요': {'.': 1}, '역': {'으로': 1}, '길이': {'어딘가': 1}, '어딘가': {'요': 1}, '요': {'.': 1}, '물건': {'은': 1}, '은': {'얼마': 1, '홍길동': 1}, '얼마': {'인가요': 1}, '.': {'나': 1, '오늘': 1}, '아파요': {'.': 1}, '머리': {'가': 1}, '안녕하세요': {'.': 1}, '제': {'이름': 1}, '이름': {'은': 1}, '홍길동': {'입니다': 1}, '입니다': {'.': 1}, '저': {'의': 1, '는': 1}, '의': {'나이': 1}, '나이': {'는': 1}, '0': {'살': 1}, '살': {'입니다': 1, '고': 1}, '인천': {'에': 1}, '고': {'있습니다': 1}, '있습니다': {'.': 1}, '모델링': {'을': 1}, '너무': {'안됩니다': 1}, '안됩니다': {'.': 1}, '힘들다': {'.': 1}, '어렵다': {'.': 1}, '언제': {'값': 1}, '값': {'이': 1}, '제대로': {'나올지': 1}}\n"
     ]
    }
   ],
   "source": [
    "# 딕셔너리에 데이터 등록\n",
    "dict_file = \"sentence.json\"\n",
    "\n",
    "if not os.path.exists(dict_file):\n",
    "    text = text.replace(\"…\", \"\") \n",
    "\n",
    "    okt = Okt()\n",
    "    malist = okt.pos(text, norm=True) # 형태소 분석\n",
    "    words = []\n",
    "\n",
    "    for word in malist:\n",
    "        if not word[1] in [\"Punctuation\"]:\n",
    "            words.append(word[0])\n",
    "        if word[0] == \".\":\n",
    "            words.append(word[0])\n",
    "   \n",
    "    dic = make_dic(words)\n",
    "    json.dump(dic, open(dict_file,\"w\", encoding=\"utf-8\"))\n",
    "else:\n",
    "    dic = json.load(open(dict_file,\"r\"))\n",
    "\n",
    "print(dic)"
   ]
  },
  {
   "cell_type": "code",
   "execution_count": 17,
   "id": "2321077d",
   "metadata": {},
   "outputs": [],
   "source": [
    "# 함수 3 : 문장 만들기\n",
    "def word_choice(sel):\n",
    "    keys = sel.keys()\n",
    "    return random.choice(list(keys))"
   ]
  },
  {
   "cell_type": "code",
   "execution_count": 18,
   "id": "291bbc1c",
   "metadata": {},
   "outputs": [],
   "source": [
    "# 함수 4 : 문장 만들기\n",
    "def make_sentence(dic, word):\n",
    "    ret = []\n",
    "    if not \"@\" in dic: return \"no dic\" \n",
    "    w1 = word \n",
    "    w2 = word_choice(dic[w1])\n",
    "    ret.append(w1)\n",
    "    ret.append(w2)\n",
    "    ret = \"\".join(ret)\n",
    "    #print('ret:', ret)\n",
    "    params = urllib.parse.urlencode({\n",
    "        \"_callback\": \"\",\n",
    "        \"q\": ret\n",
    "    })\n",
    "    # 네이버 맞춤법 검사\n",
    "    data = urllib.request.urlopen(\"https://m.search.naver.com/p/csearch/ocontent/spellchecker.nhn?\" + params)\n",
    "    data = data.read().decode(\"utf-8\")[1:-2]\n",
    "    data = json.loads(data)\n",
    "    data = data[\"message\"][\"result\"][\"html\"]\n",
    "    data = soup = BeautifulSoup(data, \"html.parser\").getText()\n",
    "    return data"
   ]
  },
  {
   "cell_type": "code",
   "execution_count": 19,
   "id": "1c83ab3c",
   "metadata": {},
   "outputs": [
    {
     "name": "stdout",
     "output_type": "stream",
     "text": [
      "나는 머리가 아파요. \n"
     ]
    }
   ],
   "source": [
    "# 문장 만들기\n",
    "wordlist = ['나','머리','아파요']\n",
    "result = ''\n",
    "\n",
    "for word in wordlist:\n",
    "    s = make_sentence(dic, word)\n",
    "    result = result + s + ' '\n",
    "        \n",
    "print(result)"
   ]
  },
  {
   "cell_type": "code",
   "execution_count": null,
   "id": "bdd5eefc",
   "metadata": {},
   "outputs": [],
   "source": []
  }
 ],
 "metadata": {
  "kernelspec": {
   "display_name": "Python 3",
   "language": "python",
   "name": "python3"
  },
  "language_info": {
   "codemirror_mode": {
    "name": "ipython",
    "version": 3
   },
   "file_extension": ".py",
   "mimetype": "text/x-python",
   "name": "python",
   "nbconvert_exporter": "python",
   "pygments_lexer": "ipython3",
   "version": "3.8.8"
  }
 },
 "nbformat": 4,
 "nbformat_minor": 5
}
