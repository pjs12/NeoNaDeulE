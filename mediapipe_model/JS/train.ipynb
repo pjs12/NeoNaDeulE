{
 "cells": [
  {
   "cell_type": "code",
   "execution_count": 27,
   "metadata": {},
   "outputs": [
    {
     "data": {
      "text/plain": [
       "[name: \"/device:CPU:0\"\n",
       " device_type: \"CPU\"\n",
       " memory_limit: 268435456\n",
       " locality {\n",
       " }\n",
       " incarnation: 9649608931896578635\n",
       " xla_global_id: -1,\n",
       " name: \"/device:GPU:0\"\n",
       " device_type: \"GPU\"\n",
       " memory_limit: 6267797504\n",
       " locality {\n",
       "   bus_id: 1\n",
       "   links {\n",
       "   }\n",
       " }\n",
       " incarnation: 11164093609194203266\n",
       " physical_device_desc: \"device: 0, name: NVIDIA GeForce RTX 2070 SUPER, pci bus id: 0000:06:00.0, compute capability: 7.5\"\n",
       " xla_global_id: 416903419]"
      ]
     },
     "execution_count": 27,
     "metadata": {},
     "output_type": "execute_result"
    }
   ],
   "source": [
    "from tensorflow.python.client import device_lib\n",
    "device_lib.list_local_devices()"
   ]
  },
  {
   "cell_type": "code",
   "execution_count": 28,
   "metadata": {},
   "outputs": [],
   "source": [
    "import numpy as np\n",
    "import os\n",
    "import pandas as pd\n",
    "\n",
    "os.environ['CUDA_VISIBLE_DEVICES'] = '0'\n",
    "os.environ['TF_FORCE_GPU_ALLOW_GROWTH'] = 'true'"
   ]
  },
  {
   "cell_type": "code",
   "execution_count": 29,
   "metadata": {},
   "outputs": [],
   "source": [
    "label_data1 = pd.read_csv('dataset/train_label1.csv')\n",
    "# label_data2 = pd.read_csv('dataset/label2.csv', encoding='euc-kr')"
   ]
  },
  {
   "cell_type": "code",
   "execution_count": 30,
   "metadata": {},
   "outputs": [],
   "source": [
    "name = ['0','1','2','3','4','5','6','7','8','9','10','가렵다','개','공원','금요일','내년','내일','냄새나다',\n",
    "        '누나','동생','목요일','물','아래','바다','배고프다','병원','불','산','삼키다','선생님','수요일','아빠',\n",
    "        '아파트','앞','어제','어지러움','언니','엄마','오늘','오른쪽','오빠','올해','왼쪽','월요일','위에',\n",
    "        '음식물','일요일','자동차','작년','집','친구','택시','토요일','학교','형','화요일','화장실'\n",
    "]\n"
   ]
  },
  {
   "cell_type": "code",
   "execution_count": 48,
   "metadata": {},
   "outputs": [],
   "source": [
    "data1 = np.load('dataset/train_data1_win10_ver03')\n",
    "data2 = np.load('dataset/train_data2_win10_ver03')"
   ]
  },
  {
   "cell_type": "code",
   "execution_count": 49,
   "metadata": {},
   "outputs": [],
   "source": [
    "lab1 = label_data1.values\n",
    "# lab2 = label_data2.values"
   ]
  },
  {
   "cell_type": "code",
   "execution_count": 50,
   "metadata": {},
   "outputs": [],
   "source": [
    "for i in range(len(data1)):\n",
    "    num = data1[i,0,-1]\n",
    "    label_num = lab1[int(num)][0]\n",
    "    num = name.index(label_num)\n",
    "    data1[i,:,-1] = num"
   ]
  },
  {
   "cell_type": "code",
   "execution_count": 7,
   "metadata": {},
   "outputs": [],
   "source": [
    "for i in range(len(data2)):\n",
    "    num = data2[i,0,-1]\n",
    "    label_num = lab2[int(num)][0]\n",
    "    num = name.index(label_num)\n",
    "    data2[i,:,-1] = num"
   ]
  },
  {
   "cell_type": "code",
   "execution_count": 51,
   "metadata": {},
   "outputs": [
    {
     "data": {
      "text/plain": [
       "(36209, 20, 94)"
      ]
     },
     "execution_count": 51,
     "metadata": {},
     "output_type": "execute_result"
    }
   ],
   "source": [
    "action = ['가다','감사합니다','괜찮습니다','나','남자','내리다','당신','돕다','맞다',\n",
    "'모르다','미안합니다','반드시','부탁합니다','빨리','수고','수화','슬프다','싫다',\n",
    "'아니다','안녕하세요','알다','없다','여자','오다','있다','잘','좋다','주다','타다']\n",
    "\n",
    "actions = name.copy() + action\n",
    "# actions = ['a','b']\n",
    "\n",
    "data = np.concatenate([\n",
    "    data1, data2\n",
    "], axis=0)\n",
    "\n",
    "data.shape"
   ]
  },
  {
   "cell_type": "code",
   "execution_count": 52,
   "metadata": {},
   "outputs": [
    {
     "name": "stdout",
     "output_type": "stream",
     "text": [
      "(36209, 20, 93)\n",
      "(36209,)\n"
     ]
    }
   ],
   "source": [
    "x_data = data[:, :, :-1]\n",
    "labels = data[:, 0, -1]\n",
    "\n",
    "print(x_data.shape)\n",
    "print(labels.shape)"
   ]
  },
  {
   "cell_type": "code",
   "execution_count": 53,
   "metadata": {},
   "outputs": [
    {
     "data": {
      "text/plain": [
       "(36209, 86)"
      ]
     },
     "execution_count": 53,
     "metadata": {},
     "output_type": "execute_result"
    }
   ],
   "source": [
    "from tensorflow.keras.utils import to_categorical\n",
    "\n",
    "y_data = to_categorical(labels, num_classes=len(actions))\n",
    "y_data.shape"
   ]
  },
  {
   "cell_type": "code",
   "execution_count": 54,
   "metadata": {},
   "outputs": [
    {
     "name": "stdout",
     "output_type": "stream",
     "text": [
      "(32588, 20, 93) (32588, 86)\n",
      "(3621, 20, 93) (3621, 86)\n"
     ]
    }
   ],
   "source": [
    "from sklearn.model_selection import train_test_split\n",
    "\n",
    "x_data = x_data.astype(np.float32)\n",
    "y_data = y_data.astype(np.float32)\n",
    "\n",
    "x_train, x_val, y_train, y_val = train_test_split(x_data, y_data, test_size=0.1, random_state=2021)\n",
    "\n",
    "print(x_train.shape, y_train.shape)\n",
    "print(x_val.shape, y_val.shape)"
   ]
  },
  {
   "cell_type": "code",
   "execution_count": 55,
   "metadata": {},
   "outputs": [
    {
     "name": "stdout",
     "output_type": "stream",
     "text": [
      "WARNING:tensorflow:Layer lstm will not use cuDNN kernels since it doesn't meet the criteria. It will use a generic GPU kernel as fallback when running on GPU.\n",
      "Model: \"sequential\"\n",
      "_________________________________________________________________\n",
      " Layer (type)                Output Shape              Param #   \n",
      "=================================================================\n",
      " lstm (LSTM)                 (None, 512)               1241088   \n",
      "                                                                 \n",
      " dense (Dense)               (None, 64)                32832     \n",
      "                                                                 \n",
      " dense_1 (Dense)             (None, 86)                5590      \n",
      "                                                                 \n",
      "=================================================================\n",
      "Total params: 1,279,510\n",
      "Trainable params: 1,279,510\n",
      "Non-trainable params: 0\n",
      "_________________________________________________________________\n"
     ]
    }
   ],
   "source": [
    "from tensorflow import keras\n",
    "from tensorflow.keras.models import Sequential\n",
    "from tensorflow.keras.layers import LSTM, Dense\n",
    "\n",
    "keras.backend.clear_session()\n",
    "\n",
    "model = Sequential()\n",
    "\n",
    "model.add(LSTM(512, input_shape=x_train.shape[1:3], recurrent_dropout=0.2))\n",
    "model.add(Dense(64, activation='relu'))\n",
    "model.add(Dense(len(actions), activation='softmax'))\n",
    "# model = Sequential([\n",
    "#     LSTM(128, activation='relu', input_shape=x_train.shape[1:3]),\n",
    "#     Dense(64, activation='relu'),\n",
    "#     Dense(32, activation='relu'),\n",
    "#     Dense(16, activation='relu'),\n",
    "#     Dense(len(actions), activation='softmax')\n",
    "# ])\n",
    "\n",
    "model.compile(optimizer='adam', loss='categorical_crossentropy', metrics=['accuracy'])\n",
    "model.summary()"
   ]
  },
  {
   "cell_type": "code",
   "execution_count": 56,
   "metadata": {},
   "outputs": [],
   "source": [
    "import tensorflow as tf"
   ]
  },
  {
   "cell_type": "code",
   "execution_count": null,
   "metadata": {
    "scrolled": true
   },
   "outputs": [
    {
     "name": "stdout",
     "output_type": "stream",
     "text": [
      "Epoch 1/500\n",
      "408/408 [==============================] - ETA: 0s - loss: 1.3779 - accuracy: 0.6567\n",
      "Epoch 00001: val_loss improved from inf to 0.64300, saving model to models\\model_3.h5\n",
      "408/408 [==============================] - 69s 167ms/step - loss: 1.3779 - accuracy: 0.6567 - val_loss: 0.6430 - val_accuracy: 0.8093\n",
      "Epoch 2/500\n",
      "408/408 [==============================] - ETA: 0s - loss: 0.4852 - accuracy: 0.8612\n",
      "Epoch 00002: val_loss improved from 0.64300 to 0.41897, saving model to models\\model_3.h5\n",
      "408/408 [==============================] - 69s 170ms/step - loss: 0.4852 - accuracy: 0.8612 - val_loss: 0.4190 - val_accuracy: 0.8713\n",
      "Epoch 3/500\n",
      "408/408 [==============================] - ETA: 0s - loss: 0.3275 - accuracy: 0.8990\n",
      "Epoch 00003: val_loss improved from 0.41897 to 0.28683, saving model to models\\model_3.h5\n",
      "408/408 [==============================] - 68s 167ms/step - loss: 0.3275 - accuracy: 0.8990 - val_loss: 0.2868 - val_accuracy: 0.9090\n",
      "Epoch 4/500\n",
      "408/408 [==============================] - ETA: 0s - loss: 0.2478 - accuracy: 0.9237\n",
      "Epoch 00004: val_loss improved from 0.28683 to 0.25936, saving model to models\\model_3.h5\n",
      "408/408 [==============================] - 69s 170ms/step - loss: 0.2478 - accuracy: 0.9237 - val_loss: 0.2594 - val_accuracy: 0.9161\n",
      "Epoch 5/500\n",
      "408/408 [==============================] - ETA: 0s - loss: 0.1965 - accuracy: 0.9399\n",
      "Epoch 00005: val_loss improved from 0.25936 to 0.20992, saving model to models\\model_3.h5\n",
      "408/408 [==============================] - 69s 168ms/step - loss: 0.1965 - accuracy: 0.9399 - val_loss: 0.2099 - val_accuracy: 0.9331\n",
      "Epoch 6/500\n",
      "408/408 [==============================] - ETA: 0s - loss: 0.1669 - accuracy: 0.9484\n",
      "Epoch 00006: val_loss improved from 0.20992 to 0.20518, saving model to models\\model_3.h5\n",
      "408/408 [==============================] - 70s 171ms/step - loss: 0.1669 - accuracy: 0.9484 - val_loss: 0.2052 - val_accuracy: 0.9330\n",
      "Epoch 7/500\n",
      "408/408 [==============================] - ETA: 0s - loss: 0.1310 - accuracy: 0.9597\n",
      "Epoch 00007: val_loss improved from 0.20518 to 0.15180, saving model to models\\model_3.h5\n",
      "408/408 [==============================] - 70s 172ms/step - loss: 0.1310 - accuracy: 0.9597 - val_loss: 0.1518 - val_accuracy: 0.9491\n",
      "Epoch 8/500\n",
      "408/408 [==============================] - ETA: 0s - loss: 0.1262 - accuracy: 0.9597\n",
      "Epoch 00008: val_loss did not improve from 0.15180\n",
      "408/408 [==============================] - 68s 167ms/step - loss: 0.1262 - accuracy: 0.9597 - val_loss: 0.1738 - val_accuracy: 0.9374\n",
      "Epoch 9/500\n",
      "408/408 [==============================] - ETA: 0s - loss: 0.1184 - accuracy: 0.9620\n",
      "Epoch 00009: val_loss improved from 0.15180 to 0.13955, saving model to models\\model_3.h5\n",
      "408/408 [==============================] - 69s 170ms/step - loss: 0.1184 - accuracy: 0.9620 - val_loss: 0.1396 - val_accuracy: 0.9511\n",
      "Epoch 10/500\n",
      "408/408 [==============================] - ETA: 0s - loss: 0.0995 - accuracy: 0.9677\n",
      "Epoch 00010: val_loss improved from 0.13955 to 0.13497, saving model to models\\model_3.h5\n",
      "408/408 [==============================] - 69s 168ms/step - loss: 0.0995 - accuracy: 0.9677 - val_loss: 0.1350 - val_accuracy: 0.9541\n",
      "Epoch 11/500\n",
      "408/408 [==============================] - ETA: 0s - loss: 0.1308 - accuracy: 0.9570\n",
      "Epoch 00011: val_loss did not improve from 0.13497\n",
      "408/408 [==============================] - 69s 169ms/step - loss: 0.1308 - accuracy: 0.9570 - val_loss: 0.1392 - val_accuracy: 0.9527\n",
      "Epoch 12/500\n",
      "408/408 [==============================] - ETA: 0s - loss: 0.1050 - accuracy: 0.9654\n",
      "Epoch 00012: val_loss improved from 0.13497 to 0.10891, saving model to models\\model_3.h5\n",
      "408/408 [==============================] - 69s 168ms/step - loss: 0.1050 - accuracy: 0.9654 - val_loss: 0.1089 - val_accuracy: 0.9626\n",
      "Epoch 13/500\n",
      "408/408 [==============================] - ETA: 0s - loss: 0.0875 - accuracy: 0.9700\n",
      "Epoch 00013: val_loss did not improve from 0.10891\n",
      "408/408 [==============================] - 70s 171ms/step - loss: 0.0875 - accuracy: 0.9700 - val_loss: 0.1266 - val_accuracy: 0.9566\n",
      "Epoch 14/500\n",
      "408/408 [==============================] - ETA: 0s - loss: 0.0717 - accuracy: 0.9755\n",
      "Epoch 00014: val_loss improved from 0.10891 to 0.09538, saving model to models\\model_3.h5\n",
      "408/408 [==============================] - 70s 171ms/step - loss: 0.0717 - accuracy: 0.9755 - val_loss: 0.0954 - val_accuracy: 0.9652\n",
      "Epoch 15/500\n",
      "408/408 [==============================] - ETA: 0s - loss: 0.0810 - accuracy: 0.9734\n",
      "Epoch 00015: val_loss did not improve from 0.09538\n",
      "408/408 [==============================] - 69s 170ms/step - loss: 0.0810 - accuracy: 0.9734 - val_loss: 0.1673 - val_accuracy: 0.9440\n",
      "Epoch 16/500\n",
      "408/408 [==============================] - ETA: 0s - loss: 0.1052 - accuracy: 0.9643\n",
      "Epoch 00016: val_loss did not improve from 0.09538\n",
      "408/408 [==============================] - 69s 169ms/step - loss: 0.1052 - accuracy: 0.9643 - val_loss: 0.1155 - val_accuracy: 0.9592\n",
      "Epoch 17/500\n",
      "408/408 [==============================] - ETA: 0s - loss: 0.0799 - accuracy: 0.9731\n",
      "Epoch 00017: val_loss improved from 0.09538 to 0.08112, saving model to models\\model_3.h5\n",
      "408/408 [==============================] - 69s 169ms/step - loss: 0.0799 - accuracy: 0.9731 - val_loss: 0.0811 - val_accuracy: 0.9721\n",
      "Epoch 18/500\n",
      "408/408 [==============================] - ETA: 0s - loss: 0.0654 - accuracy: 0.9787\n",
      "Epoch 00018: val_loss did not improve from 0.08112\n",
      "408/408 [==============================] - 68s 166ms/step - loss: 0.0654 - accuracy: 0.9787 - val_loss: 0.1167 - val_accuracy: 0.9589\n",
      "Epoch 19/500\n",
      "408/408 [==============================] - ETA: 0s - loss: 0.0779 - accuracy: 0.9725\n",
      "Epoch 00019: val_loss did not improve from 0.08112\n",
      "408/408 [==============================] - 69s 168ms/step - loss: 0.0779 - accuracy: 0.9725 - val_loss: 0.1239 - val_accuracy: 0.9572\n",
      "Epoch 20/500\n",
      "408/408 [==============================] - ETA: 0s - loss: 0.0684 - accuracy: 0.9760\n",
      "Epoch 00020: val_loss did not improve from 0.08112\n",
      "408/408 [==============================] - 69s 169ms/step - loss: 0.0684 - accuracy: 0.9760 - val_loss: 0.0951 - val_accuracy: 0.9656\n",
      "Epoch 21/500\n",
      "408/408 [==============================] - ETA: 0s - loss: 0.0643 - accuracy: 0.9780\n",
      "Epoch 00021: val_loss did not improve from 0.08112\n",
      "408/408 [==============================] - 70s 172ms/step - loss: 0.0643 - accuracy: 0.9780 - val_loss: 0.0835 - val_accuracy: 0.9698\n",
      "Epoch 22/500\n",
      "337/408 [=======================>......] - ETA: 11s - loss: 0.0579 - accuracy: 0.9802"
     ]
    }
   ],
   "source": [
    "from tensorflow.keras.callbacks import ModelCheckpoint, EarlyStopping\n",
    "\n",
    "es = EarlyStopping(monitor='val_loss', patience=5, restore_best_weights=True, verbose=1, min_delta=0)\n",
    "mc = ModelCheckpoint('models/model_3.h5', monitor='val_loss', verbose=1, save_best_only=True)\n",
    "\n",
    "with tf.device(\"/device:GPU:0\"):\n",
    "    history = model.fit(\n",
    "        x_train,\n",
    "        y_train,\n",
    "        validation_split=0.2,\n",
    "        batch_size=64,\n",
    "        epochs=500,\n",
    "        verbose=1,\n",
    "        callbacks=[\n",
    "            es,mc\n",
    "        ]\n",
    "    )"
   ]
  },
  {
   "cell_type": "code",
   "execution_count": 45,
   "metadata": {},
   "outputs": [
    {
     "ename": "KeyError",
     "evalue": "'acc'",
     "output_type": "error",
     "traceback": [
      "\u001b[1;31m---------------------------------------------------------------------------\u001b[0m",
      "\u001b[1;31mKeyError\u001b[0m                                  Traceback (most recent call last)",
      "Input \u001b[1;32mIn [45]\u001b[0m, in \u001b[0;36m<cell line: 12>\u001b[1;34m()\u001b[0m\n\u001b[0;32m      9\u001b[0m loss_ax\u001b[38;5;241m.\u001b[39mset_ylabel(\u001b[38;5;124m'\u001b[39m\u001b[38;5;124mloss\u001b[39m\u001b[38;5;124m'\u001b[39m)\n\u001b[0;32m     10\u001b[0m loss_ax\u001b[38;5;241m.\u001b[39mlegend(loc\u001b[38;5;241m=\u001b[39m\u001b[38;5;124m'\u001b[39m\u001b[38;5;124mupper left\u001b[39m\u001b[38;5;124m'\u001b[39m)\n\u001b[1;32m---> 12\u001b[0m acc_ax\u001b[38;5;241m.\u001b[39mplot(\u001b[43mhistory\u001b[49m\u001b[38;5;241;43m.\u001b[39;49m\u001b[43mhistory\u001b[49m\u001b[43m[\u001b[49m\u001b[38;5;124;43m'\u001b[39;49m\u001b[38;5;124;43macc\u001b[39;49m\u001b[38;5;124;43m'\u001b[39;49m\u001b[43m]\u001b[49m, \u001b[38;5;124m'\u001b[39m\u001b[38;5;124mb\u001b[39m\u001b[38;5;124m'\u001b[39m, label\u001b[38;5;241m=\u001b[39m\u001b[38;5;124m'\u001b[39m\u001b[38;5;124mtrain acc\u001b[39m\u001b[38;5;124m'\u001b[39m)\n\u001b[0;32m     13\u001b[0m acc_ax\u001b[38;5;241m.\u001b[39mplot(history\u001b[38;5;241m.\u001b[39mhistory[\u001b[38;5;124m'\u001b[39m\u001b[38;5;124mval_acc\u001b[39m\u001b[38;5;124m'\u001b[39m], \u001b[38;5;124m'\u001b[39m\u001b[38;5;124mg\u001b[39m\u001b[38;5;124m'\u001b[39m, label\u001b[38;5;241m=\u001b[39m\u001b[38;5;124m'\u001b[39m\u001b[38;5;124mval acc\u001b[39m\u001b[38;5;124m'\u001b[39m)\n\u001b[0;32m     14\u001b[0m acc_ax\u001b[38;5;241m.\u001b[39mset_ylabel(\u001b[38;5;124m'\u001b[39m\u001b[38;5;124maccuracy\u001b[39m\u001b[38;5;124m'\u001b[39m)\n",
      "\u001b[1;31mKeyError\u001b[0m: 'acc'"
     ]
    },
    {
     "data": {
      "image/png": "[encoded data removed]",
      "text/plain": [
       "<Figure size 1152x720 with 2 Axes>"
      ]
     },
     "metadata": {
      "needs_background": "light"
     },
     "output_type": "display_data"
    }
   ],
   "source": [
    "import matplotlib.pyplot as plt\n",
    "\n",
    "fig, loss_ax = plt.subplots(figsize=(16, 10))\n",
    "acc_ax = loss_ax.twinx()\n",
    "\n",
    "loss_ax.plot(history.history['loss'], 'y', label='train loss')\n",
    "loss_ax.plot(history.history['val_loss'], 'r', label='val loss')\n",
    "loss_ax.set_xlabel('epoch')\n",
    "loss_ax.set_ylabel('loss')\n",
    "loss_ax.legend(loc='upper left')\n",
    "\n",
    "acc_ax.plot(history.history['acc'], 'b', label='train acc')\n",
    "acc_ax.plot(history.history['val_acc'], 'g', label='val acc')\n",
    "acc_ax.set_ylabel('accuracy')\n",
    "acc_ax.legend(loc='upper left')\n",
    "\n",
    "plt.show()"
   ]
  },
  {
   "cell_type": "code",
   "execution_count": 47,
   "metadata": {},
   "outputs": [
    {
     "name": "stdout",
     "output_type": "stream",
     "text": [
      "WARNING:tensorflow:Layer lstm will not use cuDNN kernels since it doesn't meet the criteria. It will use a generic GPU kernel as fallback when running on GPU.\n"
     ]
    },
    {
     "data": {
      "text/plain": [
       "array([[[4914,    3],\n",
       "        [   1,   30]],\n",
       "\n",
       "       [[4914,    1],\n",
       "        [   3,   30]],\n",
       "\n",
       "       [[4896,    7],\n",
       "        [   0,   45]],\n",
       "\n",
       "       [[4883,    2],\n",
       "        [  10,   53]],\n",
       "\n",
       "       [[4908,    3],\n",
       "        [   0,   37]],\n",
       "\n",
       "       [[4882,    0],\n",
       "        [  11,   55]],\n",
       "\n",
       "       [[4882,    5],\n",
       "        [   5,   56]],\n",
       "\n",
       "       [[4874,    3],\n",
       "        [   3,   68]],\n",
       "\n",
       "       [[4893,    0],\n",
       "        [   3,   52]],\n",
       "\n",
       "       [[4899,    6],\n",
       "        [   1,   42]],\n",
       "\n",
       "       [[4896,    0],\n",
       "        [   4,   48]],\n",
       "\n",
       "       [[4889,    0],\n",
       "        [   1,   58]],\n",
       "\n",
       "       [[4889,    2],\n",
       "        [   2,   55]],\n",
       "\n",
       "       [[4875,    7],\n",
       "        [   4,   62]],\n",
       "\n",
       "       [[4900,    1],\n",
       "        [   3,   44]],\n",
       "\n",
       "       [[4908,    2],\n",
       "        [   1,   37]],\n",
       "\n",
       "       [[4906,    1],\n",
       "        [   6,   35]],\n",
       "\n",
       "       [[4894,    2],\n",
       "        [   0,   52]],\n",
       "\n",
       "       [[4906,    3],\n",
       "        [  24,   15]],\n",
       "\n",
       "       [[4917,    0],\n",
       "        [   1,   30]],\n",
       "\n",
       "       [[4893,    0],\n",
       "        [   4,   51]],\n",
       "\n",
       "       [[4886,    4],\n",
       "        [  15,   43]],\n",
       "\n",
       "       [[4898,    4],\n",
       "        [   3,   43]],\n",
       "\n",
       "       [[4880,    3],\n",
       "        [   3,   62]],\n",
       "\n",
       "       [[4889,    1],\n",
       "        [   0,   58]],\n",
       "\n",
       "       [[4896,    1],\n",
       "        [   1,   50]],\n",
       "\n",
       "       [[4896,    1],\n",
       "        [   3,   48]],\n",
       "\n",
       "       [[4885,    2],\n",
       "        [   2,   59]],\n",
       "\n",
       "       [[4896,    1],\n",
       "        [   1,   50]],\n",
       "\n",
       "       [[4890,    3],\n",
       "        [   0,   55]],\n",
       "\n",
       "       [[4895,   14],\n",
       "        [   3,   36]],\n",
       "\n",
       "       [[4896,    2],\n",
       "        [   3,   47]],\n",
       "\n",
       "       [[4895,    3],\n",
       "        [   0,   50]],\n",
       "\n",
       "       [[4902,    0],\n",
       "        [   3,   43]],\n",
       "\n",
       "       [[4902,    3],\n",
       "        [   1,   42]],\n",
       "\n",
       "       [[4899,    3],\n",
       "        [   0,   46]],\n",
       "\n",
       "       [[4890,   26],\n",
       "        [   5,   27]],\n",
       "\n",
       "       [[4891,    1],\n",
       "        [   7,   49]],\n",
       "\n",
       "       [[4902,    2],\n",
       "        [   2,   42]],\n",
       "\n",
       "       [[4888,    4],\n",
       "        [   4,   52]],\n",
       "\n",
       "       [[4879,   18],\n",
       "        [   1,   50]],\n",
       "\n",
       "       [[4891,    1],\n",
       "        [   1,   55]],\n",
       "\n",
       "       [[4885,    4],\n",
       "        [   3,   56]],\n",
       "\n",
       "       [[4903,    1],\n",
       "        [   7,   37]],\n",
       "\n",
       "       [[4903,    0],\n",
       "        [   1,   44]],\n",
       "\n",
       "       [[4888,    3],\n",
       "        [   1,   56]],\n",
       "\n",
       "       [[4879,    1],\n",
       "        [   3,   65]],\n",
       "\n",
       "       [[4876,    3],\n",
       "        [   1,   68]],\n",
       "\n",
       "       [[4895,    0],\n",
       "        [   3,   50]],\n",
       "\n",
       "       [[4897,    2],\n",
       "        [   1,   48]],\n",
       "\n",
       "       [[4893,    1],\n",
       "        [   1,   53]],\n",
       "\n",
       "       [[4880,    3],\n",
       "        [   1,   64]],\n",
       "\n",
       "       [[4894,    0],\n",
       "        [   1,   53]],\n",
       "\n",
       "       [[4897,    2],\n",
       "        [   0,   49]],\n",
       "\n",
       "       [[4902,    0],\n",
       "        [  18,   28]],\n",
       "\n",
       "       [[4916,    0],\n",
       "        [   0,   32]],\n",
       "\n",
       "       [[4897,    1],\n",
       "        [   0,   50]],\n",
       "\n",
       "       [[4889,    0],\n",
       "        [   1,   58]],\n",
       "\n",
       "       [[4873,    3],\n",
       "        [   2,   70]],\n",
       "\n",
       "       [[4875,   11],\n",
       "        [   0,   62]],\n",
       "\n",
       "       [[4913,    0],\n",
       "        [   5,   30]],\n",
       "\n",
       "       [[4889,    4],\n",
       "        [   3,   52]],\n",
       "\n",
       "       [[4869,    3],\n",
       "        [   0,   76]],\n",
       "\n",
       "       [[4886,    7],\n",
       "        [   0,   55]],\n",
       "\n",
       "       [[4820,    6],\n",
       "        [   3,  119]],\n",
       "\n",
       "       [[4873,    1],\n",
       "        [   0,   74]],\n",
       "\n",
       "       [[4877,    4],\n",
       "        [   0,   67]],\n",
       "\n",
       "       [[4849,    6],\n",
       "        [   0,   93]],\n",
       "\n",
       "       [[4857,    0],\n",
       "        [   1,   90]],\n",
       "\n",
       "       [[4899,    4],\n",
       "        [   0,   45]],\n",
       "\n",
       "       [[4869,    7],\n",
       "        [   1,   71]],\n",
       "\n",
       "       [[4871,    0],\n",
       "        [   0,   77]],\n",
       "\n",
       "       [[4877,    0],\n",
       "        [   2,   69]],\n",
       "\n",
       "       [[4820,    3],\n",
       "        [   3,  122]],\n",
       "\n",
       "       [[4889,    0],\n",
       "        [   2,   57]],\n",
       "\n",
       "       [[4891,    2],\n",
       "        [   3,   52]],\n",
       "\n",
       "       [[4858,    1],\n",
       "        [   6,   83]],\n",
       "\n",
       "       [[4886,    0],\n",
       "        [   1,   61]],\n",
       "\n",
       "       [[4889,    1],\n",
       "        [   0,   58]],\n",
       "\n",
       "       [[4884,    0],\n",
       "        [   1,   63]],\n",
       "\n",
       "       [[4879,    3],\n",
       "        [   0,   66]],\n",
       "\n",
       "       [[4891,    0],\n",
       "        [   0,   57]],\n",
       "\n",
       "       [[4876,    0],\n",
       "        [   7,   65]],\n",
       "\n",
       "       [[4870,    6],\n",
       "        [   0,   72]],\n",
       "\n",
       "       [[4891,    1],\n",
       "        [   9,   47]],\n",
       "\n",
       "       [[4862,    0],\n",
       "        [   3,   83]]], dtype=int64)"
      ]
     },
     "execution_count": 47,
     "metadata": {},
     "output_type": "execute_result"
    }
   ],
   "source": [
    "from sklearn.metrics import multilabel_confusion_matrix\n",
    "from tensorflow.keras.models import load_model\n",
    "\n",
    "model = load_model('models/model_xyz_angle.h5')\n",
    "\n",
    "y_pred = model.predict(x_val)\n",
    "\n",
    "multilabel_confusion_matrix(np.argmax(y_val, axis=1), np.argmax(y_pred, axis=1))"
   ]
  },
  {
   "cell_type": "code",
   "execution_count": null,
   "metadata": {},
   "outputs": [],
   "source": [
    "\n",
    "\n"
   ]
  }
 ],
 "metadata": {
  "kernelspec": {
   "display_name": "Python 3",
   "language": "python",
   "name": "python3"
  },
  "language_info": {
   "codemirror_mode": {
    "name": "ipython",
    "version": 3
   },
   "file_extension": ".py",
   "mimetype": "text/x-python",
   "name": "python",
   "nbconvert_exporter": "python",
   "pygments_lexer": "ipython3",
   "version": "3.8.8"
  }
 },
 "nbformat": 4,
 "nbformat_minor": 4
}
